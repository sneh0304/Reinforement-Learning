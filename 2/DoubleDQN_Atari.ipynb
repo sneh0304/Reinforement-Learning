{
  "nbformat": 4,
  "nbformat_minor": 0,
  "metadata": {
    "colab": {
      "name": "DoubleDQN_Atari.ipynb",
      "provenance": [],
      "collapsed_sections": []
    },
    "kernelspec": {
      "name": "python3",
      "display_name": "Python 3"
    },
    "accelerator": "GPU"
  },
  "cells": [
    {
      "cell_type": "code",
      "metadata": {
        "id": "wqj_Zv9-zujq"
      },
      "source": [
        "!apt-get install -y xvfb python-opengl > /dev/null 2>&1\n",
        "!pip install gym pyvirtualdisplay > /dev/null 2>&1"
      ],
      "execution_count": null,
      "outputs": []
    },
    {
      "cell_type": "code",
      "metadata": {
        "id": "d1_UNET5AsBY"
      },
      "source": [
        "import numpy as np\n",
        "import matplotlib.pyplot as plt\n",
        "import gym\n",
        "from gym import spaces\n",
        "import torch\n",
        "import torch.nn as nn\n",
        "import torch.optim as optim\n",
        "import torch.nn.functional as F\n",
        "from PIL import Image\n",
        "import torchvision.transforms as T\n",
        "from IPython import display as ipythondisplay\n",
        "import imageio\n",
        "import pickle"
      ],
      "execution_count": null,
      "outputs": []
    },
    {
      "cell_type": "code",
      "metadata": {
        "id": "0e05U3Fn0FLy",
        "outputId": "104d27fe-8c3c-406b-c3d8-0e50e5e01571",
        "colab": {
          "base_uri": "https://localhost:8080/"
        }
      },
      "source": [
        "from pyvirtualdisplay import Display\n",
        "display = Display(visible = 0, size = (400, 300))\n",
        "display.start()"
      ],
      "execution_count": null,
      "outputs": [
        {
          "output_type": "execute_result",
          "data": {
            "text/plain": [
              "<pyvirtualdisplay.display.Display at 0x7f3c2a719240>"
            ]
          },
          "metadata": {
            "tags": []
          },
          "execution_count": 3
        }
      ]
    },
    {
      "cell_type": "markdown",
      "metadata": {
        "id": "8WqZpngmet3W"
      },
      "source": [
        "### Environment"
      ]
    },
    {
      "cell_type": "code",
      "metadata": {
        "id": "E4abimHLvFyF",
        "outputId": "2722b1d3-0a8d-490b-dba3-1c30e5bc8650",
        "colab": {
          "base_uri": "https://localhost:8080/"
        }
      },
      "source": [
        "env = gym.make('Assault-v0').unwrapped\n",
        "\n",
        "print(env.action_space.n)\n",
        "print(env.observation_space)\n",
        "print(env.get_action_meanings())"
      ],
      "execution_count": null,
      "outputs": [
        {
          "output_type": "stream",
          "text": [
            "7\n",
            "Box(0, 255, (250, 160, 3), uint8)\n",
            "['NOOP', 'FIRE', 'UP', 'RIGHT', 'LEFT', 'RIGHTFIRE', 'LEFTFIRE']\n"
          ],
          "name": "stdout"
        }
      ]
    },
    {
      "cell_type": "code",
      "metadata": {
        "id": "yCDuE9e4PnmN",
        "outputId": "6fdfa85b-b077-4724-8840-acefeb027486",
        "colab": {
          "base_uri": "https://localhost:8080/",
          "height": 286
        }
      },
      "source": [
        "env.reset()\n",
        "screen = env.render(mode = 'rgb_array')\n",
        "plt.imshow(screen)\n",
        "print(screen.shape)"
      ],
      "execution_count": null,
      "outputs": [
        {
          "output_type": "stream",
          "text": [
            "(250, 160, 3)\n"
          ],
          "name": "stdout"
        },
        {
          "output_type": "display_data",
          "data": {
            "image/png": "[encoded data removed]",
            "text/plain": [
              "<Figure size 432x288 with 1 Axes>"
            ]
          },
          "metadata": {
            "tags": [],
            "needs_background": "light"
          }
        }
      ]
    },
    {
      "cell_type": "code",
      "metadata": {
        "id": "7HfT_UBh0MeN",
        "outputId": "43e31a87-6136-4f04-8d93-f6cec7378996",
        "colab": {
          "base_uri": "https://localhost:8080/",
          "height": 285
        }
      },
      "source": [
        "# ref: https://pytorch.org/tutorials/intermediate/reinforcement_q_learning.html\n",
        "\n",
        "device = torch.device(\"cuda\" if torch.cuda.is_available() else \"cpu\")\n",
        "resize = T.Compose([T.ToPILImage(), T.Grayscale(), T.Resize((64, 50), interpolation = Image.BICUBIC), T.ToTensor()])\n",
        "\n",
        "def get_screen(screen):\n",
        "    screen = screen.transpose((2, 0, 1))\n",
        "    screen = np.ascontiguousarray(screen, dtype = np.float32) / 255\n",
        "    screen = torch.from_numpy(screen)\n",
        "    \n",
        "    return resize(screen).to(device)\n",
        "\n",
        "print(get_screen(env.render(mode='rgb_array')).size())\n",
        "env.reset()\n",
        "plt.figure()\n",
        "plt.imshow(get_screen(env.render(mode='rgb_array')).cpu().squeeze(0).numpy(), interpolation = 'none')\n",
        "plt.show()\n"
      ],
      "execution_count": null,
      "outputs": [
        {
          "output_type": "stream",
          "text": [
            "torch.Size([1, 64, 50])\n"
          ],
          "name": "stdout"
        },
        {
          "output_type": "display_data",
          "data": {
            "image/png": "[encoded data removed]",
            "text/plain": [
              "<Figure size 432x288 with 1 Axes>"
            ]
          },
          "metadata": {
            "tags": [],
            "needs_background": "light"
          }
        }
      ]
    },
    {
      "cell_type": "markdown",
      "metadata": {
        "id": "XiaWKp0kez7m"
      },
      "source": [
        "### Agent"
      ]
    },
    {
      "cell_type": "code",
      "metadata": {
        "id": "XoPwGCbZ9KJp"
      },
      "source": [
        "class DQN(nn.Module):\n",
        "    def __init__(self, h, w, outputs):\n",
        "        super(DQN, self).__init__()\n",
        "        self.conv1 = nn.Conv2d(4, 16, kernel_size = 3, stride = 2)\n",
        "        self.bn1 = nn.BatchNorm2d(16)\n",
        "        self.dropout1 = nn.Dropout2d(0.2)\n",
        "        self.conv2 = nn.Conv2d(16, 32, kernel_size = 3, stride = 2)\n",
        "        self.bn2 = nn.BatchNorm2d(32)\n",
        "        self.dropout2 = nn.Dropout2d(0.2)\n",
        "        self.conv3 = nn.Conv2d(32, 64, kernel_size = 3, stride = 2)\n",
        "        self.bn3 = nn.BatchNorm2d(64)\n",
        "        self.dropout3 = nn.Dropout2d(0.5)\n",
        "        # self.conv4 = nn.Conv2d(64, 128, kernel_size = 5, stride = 2)\n",
        "        # self.bn4 = nn.BatchNorm2d(128)\n",
        "\n",
        "        conv2d_size_out = lambda size, kernel_size = 3, pad = 0, stride = 2 : (size + (2 * pad) - kernel_size) // stride  + 1\n",
        "\n",
        "        convw = conv2d_size_out(conv2d_size_out(conv2d_size_out(w)))\n",
        "        convh = conv2d_size_out(conv2d_size_out(conv2d_size_out(h)))\n",
        "        # print(convw, convh)\n",
        "        flatten_input_size = convw * convh * 64\n",
        "        print(flatten_input_size)\n",
        "        self.fc1 = nn.Linear(flatten_input_size, 128)\n",
        "        self.fc2 = nn.Linear(128, outputs)\n",
        "\n",
        "    def forward(self, x):\n",
        "        x = self.dropout1(F.relu(self.bn1(self.conv1(x))))\n",
        "        x = self.dropout2(F.relu(self.bn2(self.conv2(x))))\n",
        "        x = self.dropout3(F.relu(self.bn3(self.conv3(x))))\n",
        "        # x = F.relu(self.bn4(self.conv4(x)))\n",
        "        x = F.relu(self.fc1(x.view(x.size(0), -1)))\n",
        "        x = self.fc2(x)\n",
        "        return x\n",
        "  "
      ],
      "execution_count": null,
      "outputs": []
    },
    {
      "cell_type": "code",
      "metadata": {
        "id": "XLhRSK-HUx-9"
      },
      "source": [
        "from collections import deque, namedtuple\n",
        "# ref: https://pytorch.org/tutorials/intermediate/reinforcement_q_learning.html\n",
        "\n",
        "Transition = namedtuple('Transition', ('state', 'action', 'next_state', 'reward'))\n",
        "class ReplayMemory:\n",
        "    def __init__(self, capacity):\n",
        "        self.capacity = capacity\n",
        "        self.memory = deque()\n",
        "\n",
        "    def push(self, *args):\n",
        "        self.memory.append(Transition(*args))\n",
        "        if len(self.memory) > self.capacity:\n",
        "            self.memory.popleft()\n",
        "\n",
        "    def sample(self, batch_size):\n",
        "        idx = np.random.choice(len(self.memory), batch_size)\n",
        "        return np.array(self.memory)[idx]\n",
        "\n",
        "    def __len__(self):\n",
        "        return len(self.memory)"
      ],
      "execution_count": null,
      "outputs": []
    },
    {
      "cell_type": "code",
      "metadata": {
        "id": "J2p0s3DiUS1V"
      },
      "source": [
        "class Double_DQN_Agent:\n",
        "    def __init__(self, env, epsilon = 1.0, lr = 0.0000625, gamma = 0.99, bufferSize = 1000000, tau = 0.1):\n",
        "        self.env = env\n",
        "        self.observation_space = env.observation_space\n",
        "        self.action_space = env.action_space\n",
        "        self.epsilon = epsilon\n",
        "        self.gamma = gamma\n",
        "        _, h, w = get_screen(env.render(mode='rgb_array')).size()\n",
        "        self.online_net = DQN(h, w, self.action_space.n).to(device)\n",
        "        self.target_net = DQN(h, w, self.action_space.n).to(device)\n",
        "        self.target_net.load_state_dict(self.online_net.state_dict())\n",
        "        self.target_net.eval()\n",
        "        self.optimizer = optim.RMSprop(self.online_net.parameters(), lr = lr)\n",
        "        self.criterion = nn.SmoothL1Loss()\n",
        "        self.memory = ReplayMemory(bufferSize)\n",
        "        self.tau = tau\n",
        "\n",
        "    def set_epsilon(self, epsilon):\n",
        "        self.epsilon = epsilon\n",
        "\n",
        "    def step(self, state):\n",
        "        if np.random.random() < self.epsilon:\n",
        "            return torch.tensor([[np.random.choice(self.action_space.n)]], device = device, dtype = torch.long)\n",
        "        else:\n",
        "            with torch.no_grad():\n",
        "                a = self.online_net(state)\n",
        "                # print(a)\n",
        "                return a.max(1)[1].view(1, 1)\n",
        "\n",
        "    def populateReplayMemory(self, state, action, next_state, reward):\n",
        "        self.memory.push(state, action, next_state, reward)\n",
        "    \n",
        "    # ref: https://pytorch.org/tutorials/intermediate/reinforcement_q_learning.html\n",
        "    def train(self, batch_size = 32):\n",
        "        if len(self.memory) < 5000:\n",
        "            return\n",
        "        transitions = self.memory.sample(batch_size)\n",
        "        batch = Transition(*zip(*transitions))\n",
        "        \n",
        "        non_terminal_mask = torch.tensor(tuple(map(lambda s: s is not None, batch.next_state)), device = device, dtype = torch.bool)\n",
        "        non_terminal_next_states = torch.cat([s for s in batch.next_state if s is not None])\n",
        "        \n",
        "        state = torch.cat(batch.state)\n",
        "        action = torch.cat(batch.action)\n",
        "        reward = torch.cat(batch.reward)\n",
        "\n",
        "        # print(state.shape)\n",
        "        state_action_values = self.online_net(state).gather(1, action)\n",
        "\n",
        "        next_state_values = torch.zeros(batch_size, device = device)\n",
        "        next_state_actions = self.target_net(non_terminal_next_states).max(1, keepdim = True)[1]\n",
        "        next_state_values[non_terminal_mask] = self.online_net(non_terminal_next_states).gather(1, next_state_actions).squeeze(1).detach()\n",
        "        \n",
        "        expected_state_action_values = (next_state_values * self.gamma) + reward\n",
        "\n",
        "        loss = self.criterion(state_action_values, expected_state_action_values.unsqueeze(1))\n",
        "\n",
        "        # train the model\n",
        "        self.optimizer.zero_grad()\n",
        "        loss.backward()\n",
        "        for param in self.online_net.parameters():\n",
        "            param.grad.data.clamp_(-1, 1)\n",
        "        self.optimizer.step()\n",
        "\n",
        "    def updateWeights(self):\n",
        "        target_state_dict = self.target_net.state_dict()\n",
        "        online_state_dict = self.online_net.state_dict()\n",
        "        for key in online_state_dict:\n",
        "            target_state_dict[key] = self.tau * online_state_dict[key] + (1 - self.tau) * target_state_dict[key]\n",
        "        self.target_net.load_state_dict(target_state_dict)\n",
        "\n",
        "    def test(self):\n",
        "        self.env.reset()\n",
        "        images = [self.env.render(mode='rgb_array')]\n",
        "\n",
        "        last_screen = get_screen(self.env.render(mode='rgb_array'))\n",
        "        state = torch.cat([last_screen, last_screen, last_screen, last_screen]).unsqueeze(0)\n",
        "        i = 0\n",
        "        start = True\n",
        "        done = False\n",
        "        while not done:\n",
        "            action = torch.tensor([1], device = device) if start else self.step(state)\n",
        "            if start:\n",
        "                start = False\n",
        "            next_screen, reward, done, info = self.env.step(action.item())\n",
        "            images.append(next_screen)\n",
        "            next_screen = get_screen(next_screen)\n",
        "\n",
        "            if done:\n",
        "                next_state = None\n",
        "            else:\n",
        "                next_state = torch.cat((state[:, 1:, :, :], next_screen.unsqueeze(0)), dim = 1)\n",
        "                \n",
        "            state = next_state\n",
        "\n",
        "        imageio.mimsave('result_atari.gif', images, fps = 40)\n",
        "        return images\n",
        "\n",
        "    def saveWeights(self, path):\n",
        "        torch.save(self.online_net.state_dict(), path)\n",
        "    \n",
        "    def loadWeights(self, path):\n",
        "        self.online_net.load_state_dict(torch.load(path))\n"
      ],
      "execution_count": null,
      "outputs": []
    },
    {
      "cell_type": "markdown",
      "metadata": {
        "id": "e4KT9gAOe-wW"
      },
      "source": [
        "### MDP"
      ]
    },
    {
      "cell_type": "code",
      "metadata": {
        "id": "SDqGpXuBe5NS",
        "outputId": "767c4a69-441f-43a5-ead6-61a0af70b0f8",
        "colab": {
          "base_uri": "https://localhost:8080/"
        }
      },
      "source": [
        "agent = Double_DQN_Agent(env)\n",
        "\n",
        "episodes = 1000\n",
        "target_update = 4\n",
        "epsilon = agent.epsilon\n",
        "epsilons = []\n",
        "delta_epsilon = epsilon / episodes\n",
        "epsilons = [epsilon]\n",
        "total_rewards = []\n",
        "\n",
        "for episode in range(episodes):\n",
        "    env.reset()\n",
        "    done = False\n",
        "    if episode > 0:\n",
        "        epsilon = epsilon - (5 * epsilon * delta_epsilon)\n",
        "        epsilons.append(epsilon)\n",
        "        agent.set_epsilon(epsilon)\n",
        "    \n",
        "    last_screen = get_screen(env.render(mode='rgb_array'))\n",
        "    state = torch.cat([last_screen, last_screen, last_screen, last_screen]).unsqueeze(0)\n",
        "    # print(state.shape)\n",
        "    curr_reward = 0\n",
        "    i = 0\n",
        "    while not done:\n",
        "        action = agent.step(state)\n",
        "        next_screen, reward, done, info = env.step(action.item())\n",
        "        curr_reward += reward\n",
        "\n",
        "        # clipping the rewards to range [-1, 1]\n",
        "        if reward > 0:\n",
        "            reward = 1\n",
        "        elif reward == 0:\n",
        "            reward = 0\n",
        "        else:\n",
        "            reward = -1\n",
        "\n",
        "        reward = torch.tensor([reward], device = device)\n",
        "        next_screen = get_screen(next_screen)\n",
        "\n",
        "        if done:\n",
        "            next_state = None\n",
        "        else:\n",
        "            next_state = torch.cat((state[:, 1:, :, :], next_screen.unsqueeze(0)), dim = 1)\n",
        "            \n",
        "        agent.populateReplayMemory(state, action, next_state, reward)\n",
        "\n",
        "        state = next_state\n",
        "        if i % 3 == 0:\n",
        "            agent.train()\n",
        "        i += 1\n",
        "        \n",
        "    if episode % target_update == 0:\n",
        "        agent.updateWeights()\n",
        "    \n",
        "    total_rewards.append(curr_reward)\n",
        "    \n",
        "    if (episode + 1) % 50 == 0:\n",
        "        print(f'{episode + 1} episode completed.')\n",
        "\n",
        "print('Complete')"
      ],
      "execution_count": null,
      "outputs": [
        {
          "output_type": "stream",
          "text": [
            "2240\n",
            "2240\n",
            "50 episode completed.\n",
            "100 episode completed.\n",
            "150 episode completed.\n",
            "200 episode completed.\n",
            "250 episode completed.\n",
            "300 episode completed.\n",
            "350 episode completed.\n",
            "400 episode completed.\n",
            "450 episode completed.\n",
            "500 episode completed.\n",
            "550 episode completed.\n",
            "600 episode completed.\n",
            "650 episode completed.\n",
            "700 episode completed.\n",
            "750 episode completed.\n",
            "800 episode completed.\n",
            "850 episode completed.\n",
            "900 episode completed.\n",
            "950 episode completed.\n",
            "1000 episode completed.\n",
            "1050 episode completed.\n",
            "1100 episode completed.\n",
            "1150 episode completed.\n",
            "1200 episode completed.\n",
            "1250 episode completed.\n",
            "Complete\n"
          ],
          "name": "stdout"
        }
      ]
    },
    {
      "cell_type": "code",
      "metadata": {
        "id": "Bs3PMrPHeJxB"
      },
      "source": [
        "def plotGraphs(epsilons, total_rewards):\n",
        "    # Plotting ε vs Episodes\n",
        "    plt.figure(1)\n",
        "    plt.title('Epsilon decay')\n",
        "    plt.xlabel('Episodes')\n",
        "    plt.ylabel('$\\epsilon$')\n",
        "    plt.plot(epsilons)\n",
        "    plt.savefig('Epsilon_decay.png')\n",
        "\n",
        "    # Plotting Total rewards received vs Episodes\n",
        "    plt.figure(2)\n",
        "    step = 10\n",
        "    plt.title('Rewards dynamics')\n",
        "    plt.xlabel('Episodes')\n",
        "    plt.ylabel('Total Reward (SMA 10)')\n",
        "    plt.plot([np.mean(total_rewards[i : i + step]) for i in range(len(total_rewards))])\n",
        "    plt.savefig('Rewards_dynamics.png')\n"
      ],
      "execution_count": null,
      "outputs": []
    },
    {
      "cell_type": "code",
      "metadata": {
        "id": "xi3wQZbAzsSS",
        "outputId": "b3827521-122c-4b67-a4f2-d54129cb36a6",
        "colab": {
          "base_uri": "https://localhost:8080/",
          "height": 530
        }
      },
      "source": [
        "plotGraphs(epsilons, total_rewards)"
      ],
      "execution_count": null,
      "outputs": [
        {
          "output_type": "execute_result",
          "data": {
            "text/plain": [
              "[<matplotlib.lines.Line2D at 0x7f3bc995cb00>]"
            ]
          },
          "metadata": {
            "tags": []
          },
          "execution_count": 12
        },
        {
          "output_type": "display_data",
          "data": {
            "image/png": "[encoded data removed]",
            "text/plain": [
              "<Figure size 432x288 with 1 Axes>"
            ]
          },
          "metadata": {
            "tags": [],
            "needs_background": "light"
          }
        },
        {
          "output_type": "display_data",
          "data": {
            "image/png": "[encoded data removed]",
            "text/plain": [
              "<Figure size 432x288 with 1 Axes>"
            ]
          },
          "metadata": {
            "tags": [],
            "needs_background": "light"
          }
        }
      ]
    },
    {
      "cell_type": "code",
      "metadata": {
        "id": "7gp5XdtOXkMu"
      },
      "source": [
        "agent.saveWeights('DoubleDQN_Atari')"
      ],
      "execution_count": null,
      "outputs": []
    },
    {
      "cell_type": "code",
      "metadata": {
        "id": "IfURC20TziOb",
        "outputId": "c64d3abd-1624-4340-bc62-be3db6500eb0",
        "colab": {
          "base_uri": "https://localhost:8080/"
        }
      },
      "source": [
        "agent = Double_DQN_Agent(env)\n",
        "agent.loadWeights('DoubleDQN_Atari')\n",
        "imgs = agent.test()\n",
        "print(len(imgs))\n"
      ],
      "execution_count": null,
      "outputs": [
        {
          "output_type": "stream",
          "text": [
            "2240\n",
            "2240\n",
            "879\n"
          ],
          "name": "stdout"
        }
      ]
    },
    {
      "cell_type": "code",
      "metadata": {
        "id": "DW2AyE29-en9"
      },
      "source": [
        ""
      ],
      "execution_count": null,
      "outputs": []
    }
  ]
}