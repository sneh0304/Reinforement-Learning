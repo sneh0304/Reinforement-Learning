{
  "nbformat": 4,
  "nbformat_minor": 0,
  "metadata": {
    "colab": {
      "name": "DoubleDQN_CartPoleEnv.ipynb",
      "provenance": [],
      "collapsed_sections": []
    },
    "kernelspec": {
      "name": "python3",
      "display_name": "Python 3"
    },
    "accelerator": "GPU"
  },
  "cells": [
    {
      "cell_type": "code",
      "metadata": {
        "id": "wqj_Zv9-zujq"
      },
      "source": [
        "!apt-get install -y xvfb python-opengl > /dev/null 2>&1\n",
        "!pip install gym pyvirtualdisplay > /dev/null 2>&1"
      ],
      "execution_count": 1,
      "outputs": []
    },
    {
      "cell_type": "code",
      "metadata": {
        "id": "d1_UNET5AsBY"
      },
      "source": [
        "import numpy as np\n",
        "import matplotlib.pyplot as plt\n",
        "import gym\n",
        "from gym import spaces\n",
        "import torch\n",
        "import torch.nn as nn\n",
        "import torch.optim as optim\n",
        "import torch.nn.functional as F\n",
        "from PIL import Image\n",
        "import torchvision.transforms as T\n",
        "from IPython import display as ipythondisplay\n",
        "import imageio"
      ],
      "execution_count": 17,
      "outputs": []
    },
    {
      "cell_type": "code",
      "metadata": {
        "id": "0e05U3Fn0FLy",
        "outputId": "2878971e-c48c-4582-89d4-df01ba8b828f",
        "colab": {
          "base_uri": "https://localhost:8080/"
        }
      },
      "source": [
        "from pyvirtualdisplay import Display\n",
        "display = Display(visible = 0, size = (400, 300))\n",
        "display.start()"
      ],
      "execution_count": 18,
      "outputs": [
        {
          "output_type": "execute_result",
          "data": {
            "text/plain": [
              "<pyvirtualdisplay.display.Display at 0x7ff22a7ab4a8>"
            ]
          },
          "metadata": {
            "tags": []
          },
          "execution_count": 18
        }
      ]
    },
    {
      "cell_type": "markdown",
      "metadata": {
        "id": "8WqZpngmet3W"
      },
      "source": [
        "### Environment"
      ]
    },
    {
      "cell_type": "code",
      "metadata": {
        "id": "E4abimHLvFyF",
        "outputId": "f79a60ef-473b-4155-a777-7a39bf777c0a",
        "colab": {
          "base_uri": "https://localhost:8080/"
        }
      },
      "source": [
        "env = gym.make('CartPole-v1').unwrapped\n",
        "\n",
        "print(env.action_space.n)\n",
        "print(env.observation_space)"
      ],
      "execution_count": 19,
      "outputs": [
        {
          "output_type": "stream",
          "text": [
            "2\n",
            "Box(-3.4028234663852886e+38, 3.4028234663852886e+38, (4,), float32)\n"
          ],
          "name": "stdout"
        }
      ]
    },
    {
      "cell_type": "code",
      "metadata": {
        "id": "QUMxu0Ft4sIB",
        "outputId": "92aedc15-1713-4bdb-a0ee-6e495c426216",
        "colab": {
          "base_uri": "https://localhost:8080/",
          "height": 286
        }
      },
      "source": [
        "env.reset()\n",
        "screen = env.render(mode = 'rgb_array')\n",
        "plt.imshow(screen)"
      ],
      "execution_count": 20,
      "outputs": [
        {
          "output_type": "execute_result",
          "data": {
            "text/plain": [
              "<matplotlib.image.AxesImage at 0x7ff22a5e5780>"
            ]
          },
          "metadata": {
            "tags": []
          },
          "execution_count": 20
        },
        {
          "output_type": "display_data",
          "data": {
            "image/png": "[encoded data removed]",
            "text/plain": [
              "<Figure size 432x288 with 1 Axes>"
            ]
          },
          "metadata": {
            "tags": [],
            "needs_background": "light"
          }
        }
      ]
    },
    {
      "cell_type": "code",
      "metadata": {
        "id": "7HfT_UBh0MeN",
        "outputId": "6bed73e0-546a-427e-d28a-50e4a0e8371c",
        "colab": {
          "base_uri": "https://localhost:8080/",
          "height": 245
        }
      },
      "source": [
        "# ref: https://pytorch.org/tutorials/intermediate/reinforcement_q_learning.html\n",
        "\n",
        "device = torch.device(\"cuda\" if torch.cuda.is_available() else \"cpu\")\n",
        "resize = T.Compose([T.ToPILImage(), T.Grayscale(), T.Resize(40, interpolation = Image.BICUBIC), T.ToTensor()])\n",
        "\n",
        "def get_cart_location(screen_width):\n",
        "    world_width = env.x_threshold * 2\n",
        "    scale = screen_width / world_width\n",
        "    return int(env.state[0] * scale + screen_width / 2.0)  # MIDDLE OF CART\n",
        "\n",
        "def get_screen(env):\n",
        "    screen = env.render(mode='rgb_array').transpose((2, 0, 1))\n",
        "    _, height, width = screen.shape\n",
        "    screen = screen[:, int(height*0.4):int(height * 0.8)]\n",
        "    view_width = int(width * 0.5)\n",
        "    cart_location = get_cart_location(width)\n",
        "    if cart_location < view_width // 2:\n",
        "        slice_range = slice(view_width)\n",
        "    elif cart_location > (width - view_width // 2):\n",
        "        slice_range = slice(-view_width, None)\n",
        "    else:\n",
        "        slice_range = slice(cart_location - view_width // 2, cart_location + view_width // 2)\n",
        "        \n",
        "    screen = screen[:, :, slice_range]\n",
        "    screen = np.ascontiguousarray(screen, dtype = np.float32) / 255\n",
        "    screen = torch.from_numpy(screen)\n",
        "    \n",
        "    return resize(screen).to(device)\n",
        "\n",
        "env.reset()\n",
        "plt.figure()\n",
        "plt.imshow(get_screen(env).cpu().squeeze(0).numpy(), interpolation = 'none')\n",
        "plt.show()\n",
        "\n",
        "print(get_screen(env).size())"
      ],
      "execution_count": 21,
      "outputs": [
        {
          "output_type": "display_data",
          "data": {
            "image/png": "[encoded data removed]",
            "text/plain": [
              "<Figure size 432x288 with 1 Axes>"
            ]
          },
          "metadata": {
            "tags": [],
            "needs_background": "light"
          }
        },
        {
          "output_type": "stream",
          "text": [
            "torch.Size([1, 40, 75])\n"
          ],
          "name": "stdout"
        }
      ]
    },
    {
      "cell_type": "markdown",
      "metadata": {
        "id": "XiaWKp0kez7m"
      },
      "source": [
        "### Agent"
      ]
    },
    {
      "cell_type": "code",
      "metadata": {
        "id": "XoPwGCbZ9KJp"
      },
      "source": [
        "class DQN(nn.Module):\n",
        "    def __init__(self, h, w, outputs):\n",
        "        super(DQN, self).__init__()\n",
        "        self.conv1 = nn.Conv2d(4, 16, kernel_size = 3, stride = 1)\n",
        "        self.bn1 = nn.BatchNorm2d(16)\n",
        "        self.conv2 = nn.Conv2d(16, 32, kernel_size = 3, stride = 1)\n",
        "        self.bn2 = nn.BatchNorm2d(32)\n",
        "        self.conv3 = nn.Conv2d(32, 64, kernel_size = 5, stride = 2)\n",
        "        self.bn3 = nn.BatchNorm2d(64)\n",
        "        self.conv4 = nn.Conv2d(64, 64, kernel_size = 5, stride = 2)\n",
        "        self.bn4 = nn.BatchNorm2d(64)\n",
        "\n",
        "        conv2d_size_out = lambda size, kernel_size = 3, pad = 0, stride = 2 : (size + (2 * pad) - kernel_size) // stride  + 1\n",
        "\n",
        "        convw = conv2d_size_out(conv2d_size_out(conv2d_size_out(conv2d_size_out(w, stride = 1), stride = 1), kernel_size = 5), kernel_size = 5)\n",
        "        convh = conv2d_size_out(conv2d_size_out(conv2d_size_out(conv2d_size_out(h, stride = 1), stride = 1), kernel_size = 5), kernel_size = 5)\n",
        "        flatten_input_size = convw * convh * 64\n",
        "        print(flatten_input_size)\n",
        "        self.fc1 = nn.Linear(flatten_input_size, 128)\n",
        "        self.fc2 = nn.Linear(128, outputs)\n",
        "\n",
        "    def forward(self, x):\n",
        "        x = F.relu(self.bn1(self.conv1(x)))\n",
        "        x = F.relu(self.bn2(self.conv2(x)))\n",
        "        x = F.relu(self.bn3(self.conv3(x)))\n",
        "        x = F.relu(self.bn4(self.conv4(x)))\n",
        "        x = F.relu(self.fc1(x.view(x.size(0), -1)))\n",
        "        x = self.fc2(x)\n",
        "        return x\n",
        "  "
      ],
      "execution_count": 22,
      "outputs": []
    },
    {
      "cell_type": "code",
      "metadata": {
        "id": "XLhRSK-HUx-9"
      },
      "source": [
        "from collections import deque, namedtuple\n",
        "# ref: https://pytorch.org/tutorials/intermediate/reinforcement_q_learning.html\n",
        "\n",
        "Transition = namedtuple('Transition', ('state', 'action', 'next_state', 'reward'))\n",
        "class ReplayMemory:\n",
        "    def __init__(self, capacity):\n",
        "        self.capacity = capacity\n",
        "        self.memory = deque()\n",
        "\n",
        "    def push(self, *args):\n",
        "        self.memory.append(Transition(*args))\n",
        "        if len(self.memory) > self.capacity:\n",
        "            self.memory.popleft()\n",
        "\n",
        "    def sample(self, batch_size):\n",
        "        idx = np.random.choice(len(self.memory), batch_size)\n",
        "        return np.array(self.memory)[idx]\n",
        "\n",
        "    def __len__(self):\n",
        "        return len(self.memory)"
      ],
      "execution_count": 23,
      "outputs": []
    },
    {
      "cell_type": "code",
      "metadata": {
        "id": "J2p0s3DiUS1V"
      },
      "source": [
        "class Double_DQN_Agent:\n",
        "    def __init__(self, env, epsilon = 1.0, lr = 0.0001, gamma = 0.999, bufferSize = 100000, tau = 0.1):\n",
        "        self.env = env\n",
        "        self.observation_space = env.observation_space\n",
        "        self.action_space = env.action_space\n",
        "        self.epsilon = epsilon\n",
        "        self.gamma = gamma\n",
        "        _, h, w = get_screen(env).size()\n",
        "        self.online_net = DQN(h, w, self.action_space.n).to(device)\n",
        "        self.target_net = DQN(h, w, self.action_space.n).to(device)\n",
        "        self.target_net.load_state_dict(self.online_net.state_dict())\n",
        "        self.target_net.eval()\n",
        "        self.optimizer = optim.Adam(self.online_net.parameters(), lr = lr)\n",
        "        self.criterion = nn.SmoothL1Loss()\n",
        "        self.memory = ReplayMemory(bufferSize)\n",
        "        self.tau = tau\n",
        "\n",
        "    def set_epsilon(self, epsilon):\n",
        "        self.epsilon = epsilon\n",
        "\n",
        "    def step(self, state):\n",
        "        if np.random.random() < self.epsilon:\n",
        "            return torch.tensor([[np.random.choice(self.action_space.n)]], device = device, dtype = torch.long)\n",
        "        else:\n",
        "            with torch.no_grad():\n",
        "                return self.online_net(state).max(1)[1].view(1, 1)\n",
        "\n",
        "    def populateReplayMemory(self, state, action, next_state, reward):\n",
        "        self.memory.push(state, action, next_state, reward)\n",
        "    \n",
        "    # ref: https://pytorch.org/tutorials/intermediate/reinforcement_q_learning.html\n",
        "    def train(self, batch_size = 128):\n",
        "        if len(self.memory) < 512:\n",
        "            return\n",
        "        transitions = self.memory.sample(batch_size)\n",
        "        batch = Transition(*zip(*transitions))\n",
        "        \n",
        "        non_terminal_mask = torch.tensor(tuple(map(lambda s: s is not None, batch.next_state)), device = device, dtype = torch.bool)\n",
        "        non_terminal_next_states = torch.cat([s for s in batch.next_state if s is not None])\n",
        "        \n",
        "        state = torch.cat(batch.state)\n",
        "        action = torch.cat(batch.action)\n",
        "        reward = torch.cat(batch.reward)\n",
        "\n",
        "        state_action_values = self.online_net(state).gather(1, action)\n",
        "\n",
        "        next_state_values = torch.zeros(batch_size, device = device)\n",
        "        # Double DQN update\n",
        "        next_state_actions = self.target_net(non_terminal_next_states).max(1, keepdim = True)[1]\n",
        "        next_state_values[non_terminal_mask] = self.online_net(non_terminal_next_states).gather(1, next_state_actions).squeeze(1).detach()\n",
        "        \n",
        "        expected_state_action_values = (next_state_values * self.gamma) + reward\n",
        "\n",
        "        loss = self.criterion(state_action_values, expected_state_action_values.unsqueeze(1))\n",
        "\n",
        "        # train the model\n",
        "        self.optimizer.zero_grad()\n",
        "        loss.backward()\n",
        "        for param in self.online_net.parameters():\n",
        "            param.grad.data.clamp_(-1, 1)\n",
        "        self.optimizer.step()\n",
        "\n",
        "    def updateWeights(self):\n",
        "        target_state_dict = self.target_net.state_dict()\n",
        "        online_state_dict = self.online_net.state_dict()\n",
        "        for key in online_state_dict:\n",
        "            target_state_dict[key] = self.tau * online_state_dict[key] + (1 - self.tau) * target_state_dict[key]\n",
        "        self.target_net.load_state_dict(target_state_dict)\n",
        "\n",
        "    def test(self):\n",
        "        self.env.reset()\n",
        "        images = []\n",
        "        images.append(self.env.render(mode = 'rgb_array'))\n",
        "        last_screen = get_screen(self.env)\n",
        "        state = torch.cat([last_screen, last_screen, last_screen, last_screen]).unsqueeze(0)\n",
        "        done = False\n",
        "        self.epsilon = 0\n",
        "        while not done:\n",
        "            action = self.step(state)\n",
        "            _, reward, done, info = self.env.step(action.item())\n",
        "            images.append(self.env.render(mode = 'rgb_array'))\n",
        "            next_screen = get_screen(self.env)\n",
        "            next_state = torch.cat((state[:, 1:, :, :], next_screen.unsqueeze(0)), dim = 1)\n",
        "            state = next_state\n",
        "        \n",
        "        imageio.mimsave('result_cartpole.gif', images)\n",
        "        return images\n",
        "\n",
        "    def saveWeights(self, path):\n",
        "        torch.save(self.online_net.state_dict(), path)\n",
        "    \n",
        "    def loadWeights(self, path):\n",
        "        self.online_net.load_state_dict(torch.load(path))\n"
      ],
      "execution_count": 24,
      "outputs": []
    },
    {
      "cell_type": "markdown",
      "metadata": {
        "id": "e4KT9gAOe-wW"
      },
      "source": [
        "### MDP"
      ]
    },
    {
      "cell_type": "code",
      "metadata": {
        "id": "SDqGpXuBe5NS",
        "outputId": "8d8ca2b9-e8c5-4070-c3fa-c1976742ceae",
        "colab": {
          "base_uri": "https://localhost:8080/"
        }
      },
      "source": [
        "agent = Double_DQN_Agent(env)\n",
        "\n",
        "episodes = 2000\n",
        "target_update = 10\n",
        "epsilon = agent.epsilon\n",
        "epsilons = []\n",
        "delta_epsilon = epsilon / episodes\n",
        "epsilons = [epsilon]\n",
        "total_rewards = []\n",
        "\n",
        "for episode in range(episodes):\n",
        "    env.reset()\n",
        "    done = False\n",
        "    if episode > 0:\n",
        "        epsilon = epsilon - (5 * epsilon * delta_epsilon)\n",
        "        epsilons.append(epsilon)\n",
        "        agent.set_epsilon(epsilon)\n",
        "    \n",
        "    last_screen = get_screen(env)\n",
        "    # stacking last 4 screens together as state\n",
        "    state = torch.cat([last_screen, last_screen, last_screen, last_screen]).unsqueeze(0)\n",
        "    curr_reward = 0\n",
        "    i = 0\n",
        "    while not done:\n",
        "        action = agent.step(state)\n",
        "        _, reward, done, info = env.step(action.item())\n",
        "        curr_reward += reward\n",
        "        reward = torch.tensor([reward], device = device)\n",
        "        next_screen = get_screen(env)\n",
        "\n",
        "        if done:\n",
        "            next_state = None\n",
        "        else:\n",
        "            next_state = torch.cat((state[:, 1:, :, :], next_screen.unsqueeze(0)), dim = 1)\n",
        "            \n",
        "        agent.populateReplayMemory(state, action, next_state, reward)\n",
        "\n",
        "        state = next_state\n",
        "        if i % 3 == 0:\n",
        "            agent.train()\n",
        "        i += 1\n",
        "        \n",
        "    if episode % target_update == 0:\n",
        "        agent.updateWeights()\n",
        "    \n",
        "    total_rewards.append(curr_reward)\n",
        "    \n",
        "    if (episode + 1) % 50 == 0:\n",
        "        print(f'{episode + 1} episode completed')\n",
        "\n",
        "print('Complete')"
      ],
      "execution_count": 25,
      "outputs": [
        {
          "output_type": "stream",
          "text": [
            "5760\n",
            "5760\n",
            "50 episode completed\n",
            "100 episode completed\n",
            "150 episode completed\n",
            "200 episode completed\n",
            "250 episode completed\n",
            "300 episode completed\n",
            "350 episode completed\n",
            "400 episode completed\n",
            "450 episode completed\n",
            "500 episode completed\n",
            "550 episode completed\n",
            "600 episode completed\n",
            "650 episode completed\n",
            "700 episode completed\n",
            "750 episode completed\n",
            "800 episode completed\n",
            "850 episode completed\n",
            "900 episode completed\n",
            "950 episode completed\n",
            "1000 episode completed\n",
            "1050 episode completed\n",
            "1100 episode completed\n",
            "1150 episode completed\n",
            "1200 episode completed\n",
            "1250 episode completed\n",
            "1300 episode completed\n",
            "1350 episode completed\n",
            "1400 episode completed\n",
            "1450 episode completed\n",
            "1500 episode completed\n",
            "1550 episode completed\n",
            "1600 episode completed\n",
            "1650 episode completed\n",
            "1700 episode completed\n",
            "1750 episode completed\n",
            "1800 episode completed\n",
            "1850 episode completed\n",
            "1900 episode completed\n",
            "1950 episode completed\n",
            "2000 episode completed\n",
            "Complete\n"
          ],
          "name": "stdout"
        }
      ]
    },
    {
      "cell_type": "code",
      "metadata": {
        "id": "Bs3PMrPHeJxB"
      },
      "source": [
        "def plotGraphs(epsilons, total_rewards):\n",
        "    # Plotting ε vs Episodes\n",
        "    plt.figure(1)\n",
        "    plt.title('Epsilon decay')\n",
        "    plt.xlabel('Episodes')\n",
        "    plt.ylabel('$\\epsilon$')\n",
        "    plt.plot(epsilons)\n",
        "    plt.savefig('Epsilon_decay.png')\n",
        "\n",
        "    # Plotting Total rewards received vs Episodes\n",
        "    plt.figure(2)\n",
        "    step = 10\n",
        "    plt.title('Rewards dynamics')\n",
        "    plt.xlabel('Episodes')\n",
        "    plt.ylabel('Total Reward (SMA 10)')\n",
        "    plt.plot([np.mean(total_rewards[i : i + step]) for i in range(len(total_rewards))])\n",
        "    plt.savefig('Rewards_dynamics.png')\n"
      ],
      "execution_count": 11,
      "outputs": []
    },
    {
      "cell_type": "code",
      "metadata": {
        "id": "m0uF-RSaHUTp",
        "outputId": "137abef6-7d60-45cb-817e-1c116a57d719",
        "colab": {
          "base_uri": "https://localhost:8080/",
          "height": 534
        }
      },
      "source": [
        "plotGraphs(epsilons, total_rewards)"
      ],
      "execution_count": 28,
      "outputs": [
        {
          "output_type": "display_data",
          "data": {
            "image/png": "[encoded data removed]",
            "text/plain": [
              "<Figure size 432x288 with 1 Axes>"
            ]
          },
          "metadata": {
            "tags": [],
            "needs_background": "light"
          }
        },
        {
          "output_type": "execute_result",
          "data": {
            "text/plain": [
              "<matplotlib.image.AxesImage at 0x7ff22a01e940>"
            ]
          },
          "metadata": {
            "tags": []
          },
          "execution_count": 28
        },
        {
          "output_type": "display_data",
          "data": {
            "image/png": "[encoded data removed]",
            "text/plain": [
              "<Figure size 432x288 with 1 Axes>"
            ]
          },
          "metadata": {
            "tags": [],
            "needs_background": "light"
          }
        }
      ]
    },
    {
      "cell_type": "code",
      "metadata": {
        "id": "7gp5XdtOXkMu"
      },
      "source": [
        "agent.saveWeights('DoubleDQN_Cartpole')"
      ],
      "execution_count": null,
      "outputs": []
    },
    {
      "cell_type": "code",
      "metadata": {
        "id": "IfURC20TziOb",
        "outputId": "63564b97-9245-4cbb-c69c-adf26d070abc",
        "colab": {
          "base_uri": "https://localhost:8080/"
        }
      },
      "source": [
        "agent = Double_DQN_Agent(env)\n",
        "agent.loadWeights('DoubleDQN_Cartpole')\n",
        "imgs = agent.test()\n",
        "len(imgs)"
      ],
      "execution_count": 32,
      "outputs": [
        {
          "output_type": "stream",
          "text": [
            "5760\n",
            "5760\n"
          ],
          "name": "stdout"
        },
        {
          "output_type": "execute_result",
          "data": {
            "text/plain": [
              "594"
            ]
          },
          "metadata": {
            "tags": []
          },
          "execution_count": 32
        }
      ]
    },
    {
      "cell_type": "code",
      "metadata": {
        "id": "pHVsyPbtK_2A"
      },
      "source": [
        ""
      ],
      "execution_count": null,
      "outputs": []
    }
  ]
}