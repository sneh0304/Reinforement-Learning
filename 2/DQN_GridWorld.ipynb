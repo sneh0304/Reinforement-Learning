{
  "nbformat": 4,
  "nbformat_minor": 0,
  "metadata": {
    "colab": {
      "name": "DQN_GridWorld.ipynb",
      "provenance": [],
      "collapsed_sections": []
    },
    "kernelspec": {
      "name": "python3",
      "display_name": "Python 3"
    },
    "accelerator": "GPU"
  },
  "cells": [
    {
      "cell_type": "code",
      "metadata": {
        "id": "d1_UNET5AsBY"
      },
      "source": [
        "import numpy as np\n",
        "import matplotlib.pyplot as plt\n",
        "import gym\n",
        "from gym import spaces\n",
        "import torch\n",
        "import torch.nn as nn\n",
        "import torch.optim as optim\n",
        "import torch.nn.functional as F"
      ],
      "execution_count": null,
      "outputs": []
    },
    {
      "cell_type": "markdown",
      "metadata": {
        "id": "8WqZpngmet3W"
      },
      "source": [
        "### Environment"
      ]
    },
    {
      "cell_type": "code",
      "metadata": {
        "id": "QQ1XzsLc9E28"
      },
      "source": [
        "device = torch.device(\"cuda\" if torch.cuda.is_available() else \"cpu\")\n",
        "\n",
        "class GridEnvironment(gym.Env):\n",
        "    metadata = { 'render.modes': [] }\n",
        "    \n",
        "    def __init__(self, n = 3, is_stochastic = False, random_start = False):\n",
        "        self.observation_space = spaces.Discrete(n ** 2)\n",
        "        self.action_space = spaces.Discrete(4)\n",
        "        self.max_timesteps = 3 * n + 1\n",
        "        self.is_stochastic = is_stochastic\n",
        "        self.n = n\n",
        "        self.random_start = random_start\n",
        "\n",
        "        # defining stochastic environment such that ∑P_i = 1\n",
        "        if self.is_stochastic:\n",
        "            self.transition_prob = []\n",
        "            for i in range(n):\n",
        "                x = []\n",
        "                for j in range(n):\n",
        "                    y = []\n",
        "                    for action in range(self.action_space.n):\n",
        "                        z = [.1] * self.action_space.n\n",
        "                        z[action] = .7\n",
        "                        y.append(z)\n",
        "                        x.append(y)\n",
        "                self.transition_prob.append(x)\n",
        "        \n",
        "    def reset(self):\n",
        "        self.timestep = 0\n",
        "        self.agent_pos = np.zeros(2, dtype = int)\n",
        "        if self.random_start:\n",
        "            self.agent_pos = np.random.randint(self.n, size = 2)\n",
        "        self.goal_pos = [self.n - 1, self.n - 1]\n",
        "        self.monster_pos = [self.n // 2, self.n // 2]\n",
        "        self.update_state()\n",
        "        self.prev_distance = self.get_distance(self.agent_pos, self.goal_pos)\n",
        "        observation = self.agent_pos\n",
        "        return self.createState(observation)\n",
        "    \n",
        "    # creating state for neural network as per one hot encoding\n",
        "    def createState(self, obs):\n",
        "        one_hot = torch.zeros((1, self.observation_space.n), device = device)\n",
        "        one_hot[0, (self.n * obs[0]) + obs[1]] = 1\n",
        "        return one_hot\n",
        "\n",
        "    def update_state(self):\n",
        "      self.state = np.zeros((self.n, self.n))\n",
        "      self.state[tuple(self.goal_pos)] = 0.5\n",
        "      self.state[tuple(self.monster_pos)] = 0.25\n",
        "      self.state[tuple(self.agent_pos)] = 1\n",
        "\n",
        "    def get_action(self, x, y, action):\n",
        "        return np.random.choice(self.action_space.n, p = self.transition_prob[x][y][action])\n",
        "\n",
        "    def get_distance(self, pos1, pos2):\n",
        "        return abs(pos1[0] - pos2[0]) + abs(pos1[1] - pos2[1])\n",
        "\n",
        "    def step(self, action):\n",
        "        if self.is_stochastic:\n",
        "            action = self.get_action(self.agent_pos[0], self.agent_pos[1], action)\n",
        "\n",
        "        # top-left: (0, 0)\n",
        "        if action == 0: #down\n",
        "            self.agent_pos[0] += 1\n",
        "        if action == 1: #up\n",
        "            self.agent_pos[0] -= 1\n",
        "        if action == 2: #right\n",
        "            self.agent_pos[1] += 1\n",
        "        if action == 3: #left\n",
        "            self.agent_pos[1] -= 1\n",
        "          \n",
        "        self.agent_pos = np.clip(self.agent_pos, 0, self.n - 1)\n",
        "        self.update_state()\n",
        "        observation = self.agent_pos\n",
        "        \n",
        "        reward = 0\n",
        "        current_distance = self.get_distance(self.agent_pos, self.goal_pos)\n",
        "        if current_distance < self.prev_distance:\n",
        "            reward = 1\n",
        "        else:\n",
        "            reward = -1\n",
        "        self.prev_distance = current_distance\n",
        "\n",
        "        goal_reached = (self.agent_pos == self.goal_pos).all()\n",
        "        if goal_reached:\n",
        "            reward = 10\n",
        "\n",
        "        found_monster = (self.agent_pos == self.monster_pos).all()\n",
        "        if found_monster:\n",
        "            reward = -10\n",
        "        \n",
        "        self.timestep += 1\n",
        "        done = True if (self.timestep >= self.max_timesteps) or goal_reached or found_monster else False\n",
        "        info = {}\n",
        "        \n",
        "        return self.createState(observation), reward, done, info\n",
        "        \n",
        "    def render(self):\n",
        "        plt.imshow(self.state)\n",
        "        plt.show()"
      ],
      "execution_count": null,
      "outputs": []
    },
    {
      "cell_type": "markdown",
      "metadata": {
        "id": "XiaWKp0kez7m"
      },
      "source": [
        "### Agent"
      ]
    },
    {
      "cell_type": "code",
      "metadata": {
        "id": "XoPwGCbZ9KJp"
      },
      "source": [
        "class DQN(nn.Module):\n",
        "    def __init__(self, inputs, outputs):\n",
        "        super(DQN, self).__init__()\n",
        "        self.fc1 = nn.Linear(inputs, 128)\n",
        "        self.fc2 = nn.Linear(128, outputs)\n",
        "\n",
        "    def forward(self, x):\n",
        "        x = F.relu(self.fc1(x))\n",
        "        x = F.relu(self.fc2(x))\n",
        "        return x\n",
        "  "
      ],
      "execution_count": null,
      "outputs": []
    },
    {
      "cell_type": "code",
      "metadata": {
        "id": "XLhRSK-HUx-9"
      },
      "source": [
        "from collections import deque, namedtuple\n",
        "# ref: https://pytorch.org/tutorials/intermediate/reinforcement_q_learning.html\n",
        "\n",
        "Transition = namedtuple('Transition', ('state', 'action', 'next_state', 'reward'))\n",
        "class ReplayMemory:\n",
        "    def __init__(self, capacity):\n",
        "        self.capacity = capacity\n",
        "        self.memory = deque()\n",
        "\n",
        "    def push(self, *args):\n",
        "        self.memory.append(Transition(*args))\n",
        "        if len(self.memory) > self.capacity:\n",
        "            self.memory.popleft()\n",
        "\n",
        "    def sample(self, batch_size):\n",
        "        idx = np.random.choice(len(self.memory), batch_size)\n",
        "        return np.array(self.memory)[idx]\n",
        "\n",
        "    def __len__(self):\n",
        "        return len(self.memory)"
      ],
      "execution_count": null,
      "outputs": []
    },
    {
      "cell_type": "code",
      "metadata": {
        "id": "J2p0s3DiUS1V"
      },
      "source": [
        "class DQN_Agent:\n",
        "    def __init__(self, env, epsilon = 1.0, lr = 0.001, gamma = 0.999, bufferSize = 2000):\n",
        "        self.env = env\n",
        "        self.observation_space = env.observation_space\n",
        "        self.action_space = env.action_space\n",
        "        self.epsilon = epsilon\n",
        "        self.gamma = gamma\n",
        "        self.online_net = DQN(self.observation_space.n, self.action_space.n).to(device)\n",
        "        self.target_net = DQN(self.observation_space.n, self.action_space.n).to(device)\n",
        "        self.target_net.load_state_dict(self.online_net.state_dict())\n",
        "        self.target_net.eval()\n",
        "        self.optimizer = optim.Adam(self.online_net.parameters(), lr = lr)\n",
        "        self.criterion = nn.MSELoss()\n",
        "        self.memory = ReplayMemory(bufferSize)\n",
        "\n",
        "    def set_epsilon(self, epsilon):\n",
        "        self.epsilon = epsilon\n",
        "\n",
        "    def step(self, state):\n",
        "        if np.random.random() < self.epsilon:\n",
        "            return torch.tensor([[np.random.choice(self.action_space.n)]], device = device, dtype = torch.long)\n",
        "        else:\n",
        "            with torch.no_grad():\n",
        "                return self.online_net(state).max(1)[1].view(1, 1)\n",
        "\n",
        "    def populateReplayMemory(self, state, action, next_state, reward):\n",
        "        self.memory.push(state, action, next_state, reward)\n",
        "    \n",
        "    # ref: https://pytorch.org/tutorials/intermediate/reinforcement_q_learning.html\n",
        "    def train(self, batch_size = 128):\n",
        "        if len(self.memory) < batch_size:\n",
        "            return\n",
        "        transitions = self.memory.sample(batch_size)\n",
        "        batch = Transition(*zip(*transitions))\n",
        "        \n",
        "        non_terminal_mask = torch.tensor(tuple(map(lambda s: s is not None, batch.next_state)), device = device, dtype = torch.bool)\n",
        "        non_terminal_next_states = torch.cat([s for s in batch.next_state if s is not None])\n",
        "        \n",
        "        state = torch.cat(batch.state)\n",
        "        action = torch.cat(batch.action)\n",
        "        reward = torch.cat(batch.reward)\n",
        "\n",
        "        state_action_values = self.online_net(state).gather(1, action)\n",
        "\n",
        "        next_state_values = torch.zeros(batch_size, device = device)\n",
        "        next_state_values[non_terminal_mask] = self.target_net(non_terminal_next_states).max(1)[0].detach()\n",
        "        \n",
        "        expected_state_action_values = (next_state_values * self.gamma) + reward\n",
        "\n",
        "        loss = self.criterion(state_action_values, expected_state_action_values.unsqueeze(1))\n",
        "\n",
        "        # train the model\n",
        "        self.optimizer.zero_grad()\n",
        "        loss.backward()\n",
        "        for param in self.online_net.parameters():\n",
        "            param.grad.data.clamp_(-1, 1)\n",
        "        self.optimizer.step()\n",
        "\n",
        "    def updateWeights(self):\n",
        "        self.target_net.load_state_dict(self.online_net.state_dict())\n",
        "\n",
        "    def test(self):\n",
        "        state = self.env.reset()\n",
        "        done = False\n",
        "        self.epsilon = 0\n",
        "        self.env.render()\n",
        "        while not done:\n",
        "            action = self.step(state)\n",
        "            obs, reward, done, info = self.env.step(action)\n",
        "            state = obs\n",
        "            self.env.render()"
      ],
      "execution_count": null,
      "outputs": []
    },
    {
      "cell_type": "markdown",
      "metadata": {
        "id": "e4KT9gAOe-wW"
      },
      "source": [
        "### MDP"
      ]
    },
    {
      "cell_type": "code",
      "metadata": {
        "id": "SDqGpXuBe5NS"
      },
      "source": [
        "def MDP(episodes, n = 5, isStochastic = False, randomStart = False, epsilon = 1.0, lr = 0.001, gamma = 0.999, bufferSize = 2000):\n",
        "    env = GridEnvironment(n, is_stochastic = isStochastic, random_start = randomStart)\n",
        "    agent = DQN_Agent(env, epsilon = epsilon, lr = lr, gamma = gamma, bufferSize = bufferSize)\n",
        "\n",
        "    target_update = 10\n",
        "    steps = 0\n",
        "    epsilon = agent.epsilon\n",
        "    epsilons = []\n",
        "    delta_epsilon = epsilon / episodes\n",
        "    epsilons = [epsilon]\n",
        "    total_rewards = []\n",
        "\n",
        "    for episode in range(episodes):\n",
        "        state = env.reset()\n",
        "        done = False\n",
        "        if episode > 0:\n",
        "            epsilon = epsilon - (5 * epsilon * delta_epsilon)\n",
        "            epsilons.append(epsilon)\n",
        "            agent.set_epsilon(epsilon)\n",
        "        \n",
        "        curr_reward = 0\n",
        "        i = 0\n",
        "        while not done:\n",
        "            action = agent.step(state)\n",
        "            next_state, reward, done, info = env.step(action.item())\n",
        "            curr_reward += reward\n",
        "            reward = torch.tensor([reward], device = device)\n",
        "\n",
        "            if done:\n",
        "                next_state = None\n",
        "                \n",
        "            agent.populateReplayMemory(state, action, next_state, reward)\n",
        "\n",
        "            state = next_state\n",
        "            if i % 3 == 0:\n",
        "                agent.train()\n",
        "            i += 1\n",
        "            steps += 1\n",
        "            \n",
        "        if episode % target_update == 0:\n",
        "            agent.updateWeights()\n",
        "        \n",
        "        total_rewards.append(curr_reward)\n",
        "        \n",
        "        if (episode + 1) % 20 == 0:\n",
        "            print(f'{episode + 1} episode completed.')\n",
        "\n",
        "    print('Complete')\n",
        "    print(f'On Average {steps / episodes} steps per episode\\n')\n",
        "    env.render()\n",
        "    return env, agent, epsilons, total_rewards"
      ],
      "execution_count": null,
      "outputs": []
    },
    {
      "cell_type": "code",
      "metadata": {
        "id": "Bs3PMrPHeJxB"
      },
      "source": [
        "def plotGraphs(epsilons, total_rewards):\n",
        "    # Plotting ε vs Episodes\n",
        "    plt.figure(1)\n",
        "    plt.title('Epsilon decay')\n",
        "    plt.xlabel('Episodes')\n",
        "    plt.ylabel('$\\epsilon$')\n",
        "    plt.plot(epsilons)\n",
        "\n",
        "    # Plotting Total rewards received vs Episodes\n",
        "    plt.figure(2)\n",
        "    step = 10\n",
        "    plt.title('Rewards dynamics')\n",
        "    plt.xlabel('Episodes')\n",
        "    plt.ylabel('Total Reward (SMA 10)')\n",
        "    plt.plot([np.mean(total_rewards[i : i + step]) for i in range(len(total_rewards))])\n"
      ],
      "execution_count": null,
      "outputs": []
    },
    {
      "cell_type": "markdown",
      "metadata": {
        "id": "ifTEPYydee2Z"
      },
      "source": [
        "### Deterministic Environment"
      ]
    },
    {
      "cell_type": "code",
      "metadata": {
        "id": "kq41D8zidyUM",
        "outputId": "d13c75ef-a0a4-481c-c76e-89e4a70c862c",
        "colab": {
          "base_uri": "https://localhost:8080/",
          "height": 483
        }
      },
      "source": [
        "env, agent, epsilons, total_rewards = MDP(200)"
      ],
      "execution_count": null,
      "outputs": [
        {
          "output_type": "stream",
          "text": [
            "20 episode completed.\n",
            "40 episode completed.\n",
            "60 episode completed.\n",
            "80 episode completed.\n",
            "100 episode completed.\n",
            "120 episode completed.\n",
            "140 episode completed.\n",
            "160 episode completed.\n",
            "180 episode completed.\n",
            "200 episode completed.\n",
            "Complete\n",
            "On Average 10.14 steps per episode\n",
            "\n"
          ],
          "name": "stdout"
        },
        {
          "output_type": "display_data",
          "data": {
            "image/png": "[encoded data removed]",
            "text/plain": [
              "<Figure size 432x288 with 1 Axes>"
            ]
          },
          "metadata": {
            "tags": [],
            "needs_background": "light"
          }
        }
      ]
    },
    {
      "cell_type": "code",
      "metadata": {
        "id": "IfURC20TziOb",
        "outputId": "281a944e-9b7b-48a0-f764-0afb149d0e50",
        "colab": {
          "base_uri": "https://localhost:8080/",
          "height": 1000
        }
      },
      "source": [
        "agent.test()"
      ],
      "execution_count": null,
      "outputs": [
        {
          "output_type": "display_data",
          "data": {
            "image/png": "[encoded data removed]",
            "text/plain": [
              "<Figure size 432x288 with 1 Axes>"
            ]
          },
          "metadata": {
            "tags": [],
            "needs_background": "light"
          }
        },
        {
          "output_type": "display_data",
          "data": {
            "image/png": "[encoded data removed]",
            "text/plain": [
              "<Figure size 432x288 with 1 Axes>"
            ]
          },
          "metadata": {
            "tags": [],
            "needs_background": "light"
          }
        },
        {
          "output_type": "display_data",
          "data": {
            "image/png": "[encoded data removed]",
            "text/plain": [
              "<Figure size 432x288 with 1 Axes>"
            ]
          },
          "metadata": {
            "tags": [],
            "needs_background": "light"
          }
        },
        {
          "output_type": "display_data",
          "data": {
            "image/png": "[encoded data removed]",
            "text/plain": [
              "<Figure size 432x288 with 1 Axes>"
            ]
          },
          "metadata": {
            "tags": [],
            "needs_background": "light"
          }
        },
        {
          "output_type": "display_data",
          "data": {
            "image/png": "[encoded data removed]",
            "text/plain": [
              "<Figure size 432x288 with 1 Axes>"
            ]
          },
          "metadata": {
            "tags": [],
            "needs_background": "light"
          }
        },
        {
          "output_type": "display_data",
          "data": {
            "image/png": "[encoded data removed]",
            "text/plain": [
              "<Figure size 432x288 with 1 Axes>"
            ]
          },
          "metadata": {
            "tags": [],
            "needs_background": "light"
          }
        },
        {
          "output_type": "display_data",
          "data": {
            "image/png": "[encoded data removed]",
            "text/plain": [
              "<Figure size 432x288 with 1 Axes>"
            ]
          },
          "metadata": {
            "tags": [],
            "needs_background": "light"
          }
        },
        {
          "output_type": "display_data",
          "data": {
            "image/png": "[encoded data removed]",
            "text/plain": [
              "<Figure size 432x288 with 1 Axes>"
            ]
          },
          "metadata": {
            "tags": [],
            "needs_background": "light"
          }
        },
        {
          "output_type": "display_data",
          "data": {
            "image/png": "[encoded data removed]",
            "text/plain": [
              "<Figure size 432x288 with 1 Axes>"
            ]
          },
          "metadata": {
            "tags": [],
            "needs_background": "light"
          }
        }
      ]
    },
    {
      "cell_type": "code",
      "metadata": {
        "id": "xi3wQZbAzsSS",
        "outputId": "79eee46d-64dc-4314-d04d-120ee7cb8455",
        "colab": {
          "base_uri": "https://localhost:8080/",
          "height": 573
        }
      },
      "source": [
        "plotGraphs(epsilons, total_rewards)"
      ],
      "execution_count": null,
      "outputs": [
        {
          "output_type": "display_data",
          "data": {
            "image/png": "[encoded data removed]",
            "text/plain": [
              "<Figure size 432x288 with 1 Axes>"
            ]
          },
          "metadata": {
            "tags": [],
            "needs_background": "light"
          }
        },
        {
          "output_type": "display_data",
          "data": {
            "image/png": "[encoded data removed]",
            "text/plain": [
              "<Figure size 432x288 with 1 Axes>"
            ]
          },
          "metadata": {
            "tags": [],
            "needs_background": "light"
          }
        }
      ]
    },
    {
      "cell_type": "markdown",
      "metadata": {
        "id": "YL1UPTnFeNgY"
      },
      "source": [
        "### Stochastic Environment"
      ]
    },
    {
      "cell_type": "code",
      "metadata": {
        "id": "JLGqfsvJXu-C",
        "outputId": "4db987e0-4df7-403e-fa2a-dd6604b6c0a5",
        "colab": {
          "base_uri": "https://localhost:8080/",
          "height": 819
        }
      },
      "source": [
        "env1, agent1, epsilons1, total_rewards1 = MDP(600, isStochastic = True)"
      ],
      "execution_count": null,
      "outputs": [
        {
          "output_type": "stream",
          "text": [
            "20 episode completed.\n",
            "40 episode completed.\n",
            "60 episode completed.\n",
            "80 episode completed.\n",
            "100 episode completed.\n",
            "120 episode completed.\n",
            "140 episode completed.\n",
            "160 episode completed.\n",
            "180 episode completed.\n",
            "200 episode completed.\n",
            "220 episode completed.\n",
            "240 episode completed.\n",
            "260 episode completed.\n",
            "280 episode completed.\n",
            "300 episode completed.\n",
            "320 episode completed.\n",
            "340 episode completed.\n",
            "360 episode completed.\n",
            "380 episode completed.\n",
            "400 episode completed.\n",
            "420 episode completed.\n",
            "440 episode completed.\n",
            "460 episode completed.\n",
            "480 episode completed.\n",
            "500 episode completed.\n",
            "520 episode completed.\n",
            "540 episode completed.\n",
            "560 episode completed.\n",
            "580 episode completed.\n",
            "600 episode completed.\n",
            "Complete\n",
            "On Average 13.111666666666666 steps per episode\n",
            "\n"
          ],
          "name": "stdout"
        },
        {
          "output_type": "display_data",
          "data": {
            "image/png": "[encoded data removed]",
            "text/plain": [
              "<Figure size 432x288 with 1 Axes>"
            ]
          },
          "metadata": {
            "tags": [],
            "needs_background": "light"
          }
        }
      ]
    },
    {
      "cell_type": "code",
      "metadata": {
        "id": "YziKtaK_ZbTP",
        "outputId": "f9a5b1f8-bd73-4255-dd44-3689a3379f2e",
        "colab": {
          "base_uri": "https://localhost:8080/",
          "height": 1000
        }
      },
      "source": [
        "agent1.test()"
      ],
      "execution_count": null,
      "outputs": [
        {
          "output_type": "display_data",
          "data": {
            "image/png": "[encoded data removed]",
            "text/plain": [
              "<Figure size 432x288 with 1 Axes>"
            ]
          },
          "metadata": {
            "tags": [],
            "needs_background": "light"
          }
        },
        {
          "output_type": "display_data",
          "data": {
            "image/png": "[encoded data removed]",
            "text/plain": [
              "<Figure size 432x288 with 1 Axes>"
            ]
          },
          "metadata": {
            "tags": [],
            "needs_background": "light"
          }
        },
        {
          "output_type": "display_data",
          "data": {
            "image/png": "[encoded data removed]",
            "text/plain": [
              "<Figure size 432x288 with 1 Axes>"
            ]
          },
          "metadata": {
            "tags": [],
            "needs_background": "light"
          }
        },
        {
          "output_type": "display_data",
          "data": {
            "image/png": "[encoded data removed]",
            "text/plain": [
              "<Figure size 432x288 with 1 Axes>"
            ]
          },
          "metadata": {
            "tags": [],
            "needs_background": "light"
          }
        },
        {
          "output_type": "display_data",
          "data": {
            "image/png": "[encoded data removed]",
            "text/plain": [
              "<Figure size 432x288 with 1 Axes>"
            ]
          },
          "metadata": {
            "tags": [],
            "needs_background": "light"
          }
        },
        {
          "output_type": "display_data",
          "data": {
            "image/png": "[encoded data removed]",
            "text/plain": [
              "<Figure size 432x288 with 1 Axes>"
            ]
          },
          "metadata": {
            "tags": [],
            "needs_background": "light"
          }
        },
        {
          "output_type": "display_data",
          "data": {
            "image/png": "[encoded data removed]",
            "text/plain": [
              "<Figure size 432x288 with 1 Axes>"
            ]
          },
          "metadata": {
            "tags": [],
            "needs_background": "light"
          }
        },
        {
          "output_type": "display_data",
          "data": {
            "image/png": "[encoded data removed]",
            "text/plain": [
              "<Figure size 432x288 with 1 Axes>"
            ]
          },
          "metadata": {
            "tags": [],
            "needs_background": "light"
          }
        },
        {
          "output_type": "display_data",
          "data": {
            "image/png": "[encoded data removed]",
            "text/plain": [
              "<Figure size 432x288 with 1 Axes>"
            ]
          },
          "metadata": {
            "tags": [],
            "needs_background": "light"
          }
        },
        {
          "output_type": "display_data",
          "data": {
            "image/png": "[encoded data removed]",
            "text/plain": [
              "<Figure size 432x288 with 1 Axes>"
            ]
          },
          "metadata": {
            "tags": [],
            "needs_background": "light"
          }
        },
        {
          "output_type": "display_data",
          "data": {
            "image/png": "[encoded data removed]",
            "text/plain": [
              "<Figure size 432x288 with 1 Axes>"
            ]
          },
          "metadata": {
            "tags": [],
            "needs_background": "light"
          }
        },
        {
          "output_type": "display_data",
          "data": {
            "image/png": "[encoded data removed]",
            "text/plain": [
              "<Figure size 432x288 with 1 Axes>"
            ]
          },
          "metadata": {
            "tags": [],
            "needs_background": "light"
          }
        },
        {
          "output_type": "display_data",
          "data": {
            "image/png": "[encoded data removed]",
            "text/plain": [
              "<Figure size 432x288 with 1 Axes>"
            ]
          },
          "metadata": {
            "tags": [],
            "needs_background": "light"
          }
        }
      ]
    },
    {
      "cell_type": "code",
      "metadata": {
        "id": "Akm5riJKZrAC",
        "outputId": "2e0b204f-775b-495f-c34e-b772c281aec1",
        "colab": {
          "base_uri": "https://localhost:8080/",
          "height": 573
        }
      },
      "source": [
        "plotGraphs(epsilons1, total_rewards1)"
      ],
      "execution_count": null,
      "outputs": [
        {
          "output_type": "display_data",
          "data": {
            "image/png": "[encoded data removed]",
            "text/plain": [
              "<Figure size 432x288 with 1 Axes>"
            ]
          },
          "metadata": {
            "tags": [],
            "needs_background": "light"
          }
        },
        {
          "output_type": "display_data",
          "data": {
            "image/png": "[encoded data removed]",
            "text/plain": [
              "<Figure size 432x288 with 1 Axes>"
            ]
          },
          "metadata": {
            "tags": [],
            "needs_background": "light"
          }
        }
      ]
    },
    {
      "cell_type": "code",
      "metadata": {
        "id": "fz7hWBfSZ0ey"
      },
      "source": [
        "import pickle\n",
        "\n",
        "with open('DQN_grid_det.pkl', 'wb') as f:\n",
        "    pickle.dump(total_rewards, f)\n",
        "\n",
        "with open('DQN_grid_stoc.pkl', 'wb') as f:\n",
        "    pickle.dump(total_rewards1, f)\n"
      ],
      "execution_count": null,
      "outputs": []
    },
    {
      "cell_type": "code",
      "metadata": {
        "id": "a7WorQwlt8JS"
      },
      "source": [
        ""
      ],
      "execution_count": null,
      "outputs": []
    }
  ]
}