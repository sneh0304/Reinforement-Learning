{
  "nbformat": 4,
  "nbformat_minor": 0,
  "metadata": {
    "colab": {
      "name": "CSE_546_assignment1.ipynb",
      "provenance": []
    },
    "kernelspec": {
      "name": "python3",
      "display_name": "Python 3"
    }
  },
  "cells": [
    {
      "cell_type": "markdown",
      "metadata": {
        "id": "VHrWsWVG9O3k",
        "colab_type": "text"
      },
      "source": [
        "CSE 546: Assignment 1"
      ]
    },
    {
      "cell_type": "code",
      "metadata": {
        "id": "3X8Xma1f9MD7",
        "colab_type": "code",
        "colab": {
          "base_uri": "https://localhost:8080/",
          "height": 118
        },
        "outputId": "fa87f800-79f3-4dcc-b853-0f5e0ff77aa9"
      },
      "source": [
        "!pip install gym"
      ],
      "execution_count": 1,
      "outputs": [
        {
          "output_type": "stream",
          "text": [
            "Requirement already satisfied: gym in /usr/local/lib/python3.6/dist-packages (0.17.2)\n",
            "Requirement already satisfied: pyglet<=1.5.0,>=1.4.0 in /usr/local/lib/python3.6/dist-packages (from gym) (1.5.0)\n",
            "Requirement already satisfied: scipy in /usr/local/lib/python3.6/dist-packages (from gym) (1.4.1)\n",
            "Requirement already satisfied: cloudpickle<1.4.0,>=1.2.0 in /usr/local/lib/python3.6/dist-packages (from gym) (1.3.0)\n",
            "Requirement already satisfied: numpy>=1.10.4 in /usr/local/lib/python3.6/dist-packages (from gym) (1.18.5)\n",
            "Requirement already satisfied: future in /usr/local/lib/python3.6/dist-packages (from pyglet<=1.5.0,>=1.4.0->gym) (0.16.0)\n"
          ],
          "name": "stdout"
        }
      ]
    },
    {
      "cell_type": "code",
      "metadata": {
        "id": "TN5eZ3UO9dJH",
        "colab_type": "code",
        "colab": {}
      },
      "source": [
        "import numpy as np\n",
        "import matplotlib.pyplot as plt\n",
        "import gym\n",
        "from gym import spaces"
      ],
      "execution_count": 1,
      "outputs": []
    },
    {
      "cell_type": "code",
      "metadata": {
        "id": "VxuHb7IW9m5A",
        "colab_type": "code",
        "colab": {}
      },
      "source": [
        "class GridEnvironment(gym.Env):\n",
        "    metadata = { 'render.modes': [] }\n",
        "    \n",
        "    def __init__(self, n = 3, is_stochastic = False):\n",
        "        self.observation_space = spaces.Discrete(n ** 2)\n",
        "        self.action_space = spaces.Discrete(4)\n",
        "        self.max_timesteps = 2 * n + 1\n",
        "        self.is_stochastic = is_stochastic\n",
        "        self.n = n\n",
        "\n",
        "        # defining stochastic environment such that ∑P_i = 1\n",
        "        if self.is_stochastic:\n",
        "          self.transition_prob = []\n",
        "          for i in range(n):\n",
        "            x = []\n",
        "            for j in range(n):\n",
        "              y = []\n",
        "              for action in range(self.action_space.n):\n",
        "                z = [.1] * self.action_space.n\n",
        "                z[action] = .7\n",
        "                y.append(z)\n",
        "              x.append(y)\n",
        "            self.transition_prob.append(x)\n",
        "\n",
        "        \n",
        "    def reset(self):\n",
        "        self.timestep = 0\n",
        "        self.agent_pos = [0, 0]\n",
        "        self.goal_pos = [self.n - 1, self.n - 1]\n",
        "        self.monster_pos = [self.n // 2, self.n // 2]\n",
        "        self.update_state()\n",
        "        observation = self.agent_pos\n",
        "        return observation\n",
        "    \n",
        "    def update_state(self):\n",
        "      self.state = np.zeros((self.n, self.n))\n",
        "      self.state[tuple(self.goal_pos)] = 0.5\n",
        "      self.state[tuple(self.monster_pos)] = 0.25\n",
        "      self.state[tuple(self.agent_pos)] = 1\n",
        "\n",
        "    def get_action(self, x, y, action):\n",
        "      return np.random.choice(self.action_space.n, p = self.transition_prob[x][y][action])\n",
        "\n",
        "    def step(self, action):\n",
        "        if self.is_stochastic:\n",
        "          action = self.get_action(self.agent_pos[0], self.agent_pos[1], action)\n",
        "\n",
        "        # top-left: (0, 0)\n",
        "        if action == 0: #down\n",
        "          self.agent_pos[0] += 1\n",
        "        if action == 1: #up\n",
        "          self.agent_pos[0] -= 1\n",
        "        if action == 2: #right\n",
        "          self.agent_pos[1] += 1\n",
        "        if action == 3: #left\n",
        "          self.agent_pos[1] -= 1\n",
        "          \n",
        "        self.agent_pos = np.clip(self.agent_pos, 0, self.n - 1)\n",
        "        self.update_state()\n",
        "        observation = self.agent_pos\n",
        "        \n",
        "        reward = 0\n",
        "        goal_reached = (self.agent_pos == self.goal_pos).all()\n",
        "        if goal_reached:\n",
        "          reward = 10\n",
        "\n",
        "        if (self.agent_pos == self.monster_pos).all():\n",
        "          reward = -10\n",
        "        \n",
        "        self.timestep += 1\n",
        "        done = True if (self.timestep >= self.max_timesteps) or goal_reached else False\n",
        "        info = {}\n",
        "        \n",
        "        return observation, reward, done, info\n",
        "        \n",
        "    def render(self):\n",
        "        plt.imshow(self.state)"
      ],
      "execution_count": 2,
      "outputs": []
    },
    {
      "cell_type": "code",
      "metadata": {
        "id": "DX3BYLRz_1fJ",
        "colab_type": "code",
        "colab": {
          "base_uri": "https://localhost:8080/",
          "height": 265
        },
        "outputId": "8e1b72c7-510a-461f-8a84-590f3b7c2c0a"
      },
      "source": [
        "env = GridEnvironment(5)\n",
        "obs = env.reset()\n",
        "env.render()"
      ],
      "execution_count": 3,
      "outputs": [
        {
          "output_type": "display_data",
          "data": {
            "image/png": "[encoded data removed]",
            "text/plain": [
              "<Figure size 432x288 with 1 Axes>"
            ]
          },
          "metadata": {
            "tags": [],
            "needs_background": "light"
          }
        }
      ]
    },
    {
      "cell_type": "code",
      "metadata": {
        "id": "JJlwKnC_EPUm",
        "colab_type": "code",
        "colab": {
          "base_uri": "https://localhost:8080/",
          "height": 282
        },
        "outputId": "a6d0da69-47c1-4eff-e189-9b7cb3694ed2"
      },
      "source": [
        "action = np.random.randint(env.action_space.n)\n",
        "observation, reward, done, info = env.step(action)\n",
        "env.render()\n",
        "print('Reward:', reward)"
      ],
      "execution_count": 39,
      "outputs": [
        {
          "output_type": "stream",
          "text": [
            "Reward: 10\n"
          ],
          "name": "stdout"
        },
        {
          "output_type": "display_data",
          "data": {
            "image/png": "[encoded data removed]",
            "text/plain": [
              "<Figure size 432x288 with 1 Axes>"
            ]
          },
          "metadata": {
            "tags": [],
            "needs_background": "light"
          }
        }
      ]
    },
    {
      "cell_type": "code",
      "metadata": {
        "id": "iSIdntiXI3gz",
        "colab_type": "code",
        "colab": {}
      },
      "source": [
        ""
      ],
      "execution_count": 97,
      "outputs": []
    }
  ]
}