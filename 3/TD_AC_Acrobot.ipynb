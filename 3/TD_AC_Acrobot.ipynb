{
  "nbformat": 4,
  "nbformat_minor": 0,
  "metadata": {
    "colab": {
      "name": "TD_AC_Acrobot.ipynb",
      "provenance": [],
      "collapsed_sections": [],
      "machine_shape": "hm"
    },
    "kernelspec": {
      "name": "python3",
      "display_name": "Python 3"
    },
    "accelerator": "GPU"
  },
  "cells": [
    {
      "cell_type": "code",
      "metadata": {
        "id": "wqj_Zv9-zujq"
      },
      "source": [
        "!apt-get install -y xvfb python-opengl > /dev/null 2>&1\n",
        "!pip install gym pyvirtualdisplay > /dev/null 2>&1"
      ],
      "execution_count": null,
      "outputs": []
    },
    {
      "cell_type": "code",
      "metadata": {
        "id": "d1_UNET5AsBY"
      },
      "source": [
        "import numpy as np\n",
        "import matplotlib.pyplot as plt\n",
        "import gym\n",
        "from gym import spaces\n",
        "import torch\n",
        "import torch.nn as nn\n",
        "import torch.optim as optim\n",
        "import torch.nn.functional as F\n",
        "from PIL import Image\n",
        "import torchvision.transforms as T\n",
        "from torch.distributions import Categorical\n",
        "from IPython import display as ipythondisplay\n",
        "import imageio"
      ],
      "execution_count": null,
      "outputs": []
    },
    {
      "cell_type": "code",
      "metadata": {
        "id": "0e05U3Fn0FLy",
        "colab": {
          "base_uri": "https://localhost:8080/"
        },
        "outputId": "1ed16bdf-55ce-4097-83a9-e52b605af450"
      },
      "source": [
        "from pyvirtualdisplay import Display\n",
        "display = Display(visible = 0, size = (400, 300))\n",
        "display.start()"
      ],
      "execution_count": null,
      "outputs": [
        {
          "output_type": "execute_result",
          "data": {
            "text/plain": [
              "<pyvirtualdisplay.display.Display at 0x7f79e0d42940>"
            ]
          },
          "metadata": {
            "tags": []
          },
          "execution_count": 2
        }
      ]
    },
    {
      "cell_type": "markdown",
      "metadata": {
        "id": "8WqZpngmet3W"
      },
      "source": [
        "### Environment"
      ]
    },
    {
      "cell_type": "code",
      "metadata": {
        "id": "E4abimHLvFyF",
        "colab": {
          "base_uri": "https://localhost:8080/"
        },
        "outputId": "0e075902-147b-436b-ca33-99ce37d1d346"
      },
      "source": [
        "env = gym.make('Acrobot-v1').unwrapped\n",
        "\n",
        "print(env.action_space.n)\n",
        "print(env.observation_space)"
      ],
      "execution_count": null,
      "outputs": [
        {
          "output_type": "stream",
          "text": [
            "3\n",
            "Box(-28.274333953857422, 28.274333953857422, (6,), float32)\n"
          ],
          "name": "stdout"
        }
      ]
    },
    {
      "cell_type": "code",
      "metadata": {
        "id": "QUMxu0Ft4sIB",
        "colab": {
          "base_uri": "https://localhost:8080/",
          "height": 286
        },
        "outputId": "23ece020-e7bc-4285-d753-c5e897f94b84"
      },
      "source": [
        "env.reset()\n",
        "screen = env.render(mode = 'rgb_array')\n",
        "plt.imshow(screen)"
      ],
      "execution_count": null,
      "outputs": [
        {
          "output_type": "execute_result",
          "data": {
            "text/plain": [
              "<matplotlib.image.AxesImage at 0x7f797b286c18>"
            ]
          },
          "metadata": {
            "tags": []
          },
          "execution_count": 4
        },
        {
          "output_type": "display_data",
          "data": {
            "image/png": "[encoded data removed]",
            "text/plain": [
              "<Figure size 432x288 with 1 Axes>"
            ]
          },
          "metadata": {
            "tags": [],
            "needs_background": "light"
          }
        }
      ]
    },
    {
      "cell_type": "code",
      "metadata": {
        "id": "7HfT_UBh0MeN",
        "colab": {
          "base_uri": "https://localhost:8080/",
          "height": 301
        },
        "outputId": "ea0b931f-c7fa-416e-c8d1-53b9808db83b"
      },
      "source": [
        "# ref: https://pytorch.org/tutorials/intermediate/reinforcement_q_learning.html\n",
        "\n",
        "device = torch.device(\"cuda\" if torch.cuda.is_available() else \"cpu\")\n",
        "print(torch.cuda.get_device_name(0))\n",
        "\n",
        "resize = T.Compose([T.ToPILImage(), T.Grayscale(), T.Resize(40, interpolation = Image.BICUBIC), T.ToTensor()])\n",
        "\n",
        "def get_screen(env):\n",
        "    screen = env.render(mode = 'rgb_array')\n",
        "    screen = screen.transpose((2, 0, 1))\n",
        "    screen = screen[:, 110:, :]\n",
        "    screen = np.ascontiguousarray(screen, dtype = np.float32) / 255\n",
        "    screen = torch.from_numpy(screen)\n",
        "    \n",
        "    return resize(screen).to(device)\n",
        "\n",
        "env.reset()\n",
        "plt.figure()\n",
        "plt.imshow(get_screen(env).cpu().squeeze(0).numpy(), interpolation = 'none')\n",
        "plt.show()\n",
        "\n",
        "print(get_screen(env).size())"
      ],
      "execution_count": null,
      "outputs": [
        {
          "output_type": "stream",
          "text": [
            "Tesla V100-SXM2-16GB\n"
          ],
          "name": "stdout"
        },
        {
          "output_type": "display_data",
          "data": {
            "image/png": "[encoded data removed]",
            "text/plain": [
              "<Figure size 432x288 with 1 Axes>"
            ]
          },
          "metadata": {
            "tags": [],
            "needs_background": "light"
          }
        },
        {
          "output_type": "stream",
          "text": [
            "torch.Size([1, 40, 51])\n"
          ],
          "name": "stdout"
        }
      ]
    },
    {
      "cell_type": "markdown",
      "metadata": {
        "id": "XiaWKp0kez7m"
      },
      "source": [
        "### Actor and Critic Networks"
      ]
    },
    {
      "cell_type": "code",
      "metadata": {
        "id": "XoPwGCbZ9KJp"
      },
      "source": [
        "class Net(nn.Module):\n",
        "    def __init__(self, h, w, outputs):\n",
        "        super(Net, self).__init__()\n",
        "        self.conv1 = nn.Conv2d(4, 16, kernel_size = 3, stride = 1)\n",
        "        self.bn1 = nn.BatchNorm2d(16)\n",
        "        self.conv2 = nn.Conv2d(16, 32, kernel_size = 3, stride = 2)\n",
        "        self.bn2 = nn.BatchNorm2d(32)\n",
        "        self.conv3 = nn.Conv2d(32, 64, kernel_size = 5, stride = 2)\n",
        "        self.bn3 = nn.BatchNorm2d(64)\n",
        "        self.conv4 = nn.Conv2d(64, 64, kernel_size = 5, stride = 2)\n",
        "        self.bn4 = nn.BatchNorm2d(64)\n",
        "\n",
        "        conv2d_size_out = lambda size, kernel_size = 3, pad = 0, stride = 2 : (size + (2 * pad) - kernel_size) // stride  + 1\n",
        "\n",
        "        convw = conv2d_size_out(conv2d_size_out(conv2d_size_out(conv2d_size_out(w, stride = 1)), kernel_size = 5), kernel_size = 5)\n",
        "        convh = conv2d_size_out(conv2d_size_out(conv2d_size_out(conv2d_size_out(h, stride = 1)), kernel_size = 5), kernel_size = 5)\n",
        "        flatten_input_size = convw * convh * 64\n",
        "        print(flatten_input_size)\n",
        "        self.fc1 = nn.Linear(flatten_input_size, 128)\n",
        "        self.fc2 = nn.Linear(128, outputs)\n",
        "\n",
        "    def forward(self, x):\n",
        "        x = F.relu(self.bn1(self.conv1(x)))\n",
        "        x = F.relu(self.bn2(self.conv2(x)))\n",
        "        x = F.relu(self.bn3(self.conv3(x)))\n",
        "        x = F.relu(self.bn4(self.conv4(x)))\n",
        "        x = F.relu(self.fc1(x.view(x.size(0), -1)))\n",
        "        x = self.fc2(x)\n",
        "        return F.softmax(x, -1)\n",
        "  "
      ],
      "execution_count": null,
      "outputs": []
    },
    {
      "cell_type": "markdown",
      "metadata": {
        "id": "CIpVFmybs5QZ"
      },
      "source": [
        "### **TD Actor Critic Agent**"
      ]
    },
    {
      "cell_type": "code",
      "metadata": {
        "id": "J2p0s3DiUS1V"
      },
      "source": [
        "class Agent:\n",
        "    def __init__(self, env, lr = 0.001, gamma = 0.9):\n",
        "        self.env = env\n",
        "        self.observation_space = env.observation_space\n",
        "        self.action_space = env.action_space\n",
        "        self.gamma = gamma\n",
        "\n",
        "        _, h, w = get_screen(env).size()\n",
        "        self.actor = Net(h, w, self.action_space.n).to(device)\n",
        "        self.critic = Net(h, w, 1).to(device)\n",
        "\n",
        "        self.actor_optimizer = optim.Adam(self.actor.parameters(), lr = 0.0001)\n",
        "        self.critic_optimizer = optim.Adam(self.critic.parameters(), lr = 0.001)\n",
        "\n",
        "        self.critic_criterion = nn.SmoothL1Loss()\n",
        "\n",
        "    # ref: https://pytorch.org/docs/stable/distributions.html\n",
        "    def step(self, state):\n",
        "        probs = self.actor(state)\n",
        "        state_val = self.critic(state)\n",
        "        m = Categorical(probs)\n",
        "        action = m.sample()\n",
        "        log_prob = m.log_prob(action)\n",
        "        return action, log_prob, state_val\n",
        "\n",
        "    def calculate_returns(self, rewards):\n",
        "        returns = []\n",
        "        curr = 0\n",
        "        for r in reversed(rewards):\n",
        "            curr = r + self.gamma * curr\n",
        "            returns.append(curr)\n",
        "        return torch.tensor(returns[::-1])\n",
        "    \n",
        "    def update(self, values, log_probs, rewards):\n",
        "        returns = self.calculate_returns(rewards)\n",
        "        returns = (returns - returns.mean()) / returns.std()\n",
        "        actor_loss = []\n",
        "        critic_loss = []\n",
        "\n",
        "        for value, log_prob, R in zip(values, log_probs, returns):\n",
        "            advantage = R - value.item()\n",
        "            # Actor loss\n",
        "            actor_loss.append(-1 * log_prob * advantage)\n",
        "            # Crtic loss\n",
        "            critic_loss.append(self.critic_criterion(torch.tensor([R], device = device).unsqueeze(1), value).unsqueeze(0))\n",
        "\n",
        "        # Actor loss backprop\n",
        "        self.actor_optimizer.zero_grad()\n",
        "        actor_loss = torch.cat(actor_loss).sum()\n",
        "        actor_loss.backward()\n",
        "        self.actor_optimizer.step()\n",
        "\n",
        "        # Critic loss backprop\n",
        "        self.critic_optimizer.zero_grad()\n",
        "        critic_loss = torch.cat(critic_loss).sum()\n",
        "        critic_loss.backward()\n",
        "        self.critic_optimizer.step()\n",
        "\n",
        "    def test(self):\n",
        "        self.env.reset()\n",
        "        images = []\n",
        "        images.append(self.env.render(mode = 'rgb_array'))\n",
        "        last_screen = get_screen(self.env)\n",
        "        state = torch.cat([last_screen, last_screen, last_screen, last_screen]).unsqueeze(0)\n",
        "        done = False\n",
        "        i = 0\n",
        "        while not done and i < 10000:\n",
        "            with torch.no_grad():\n",
        "                action = self.actor(state).max(1)[1].view(1, 1)\n",
        "            _, reward, done, info = self.env.step(action.item())\n",
        "            images.append(self.env.render(mode = 'rgb_array'))\n",
        "            next_screen = get_screen(self.env)\n",
        "            next_state = torch.cat((state[:, 1:, :, :], next_screen.unsqueeze(0)), dim = 1)\n",
        "            state = next_state\n",
        "            i += 1\n",
        "        \n",
        "        imageio.mimsave('result_acrobot.gif', images, fps = 30)\n",
        "        return images\n",
        "\n",
        "    def saveWeights(self, path):\n",
        "        torch.save(self.actor.state_dict(), path + '_actor')\n",
        "        torch.save(self.critic.state_dict(), path + '_critic')\n",
        "\n",
        "    def loadWeights(self, path):\n",
        "        self.actor.load_state_dict(torch.load(path + '_actor'))\n",
        "        self.critic.load_state_dict(torch.load(path + '_critic'))\n"
      ],
      "execution_count": null,
      "outputs": []
    },
    {
      "cell_type": "markdown",
      "metadata": {
        "id": "e4KT9gAOe-wW"
      },
      "source": [
        "### MDP"
      ]
    },
    {
      "cell_type": "code",
      "metadata": {
        "colab": {
          "base_uri": "https://localhost:8080/"
        },
        "id": "gRLn_xZc5Ajj",
        "outputId": "ecd80ced-b7e6-4b1a-e1d3-e8aa9fec3f23"
      },
      "source": [
        "from google.colab import drive\n",
        "drive.mount('/content/drive')"
      ],
      "execution_count": null,
      "outputs": [
        {
          "output_type": "stream",
          "text": [
            "Mounted at /content/drive\n"
          ],
          "name": "stdout"
        }
      ]
    },
    {
      "cell_type": "code",
      "metadata": {
        "id": "SDqGpXuBe5NS",
        "colab": {
          "base_uri": "https://localhost:8080/"
        },
        "outputId": "4004b72d-09a5-4aba-cf11-e103fdb5ffad"
      },
      "source": [
        "agent = Agent(env)\n",
        "\n",
        "total_rewards = []\n",
        "\n",
        "best = float('-inf')\n",
        "episode = 0\n",
        "while True:\n",
        "    env.reset()\n",
        "    done = False\n",
        "\n",
        "    state_values = []\n",
        "    log_probs = []\n",
        "    rewards = []\n",
        "\n",
        "    last_screen = get_screen(env)\n",
        "    # stacking last 4 screens together as state\n",
        "    state = torch.cat([last_screen, last_screen, last_screen, last_screen]).unsqueeze(0)\n",
        "    curr_reward = 0\n",
        "    i = 0\n",
        "    while not done and i < 10000:\n",
        "        action, log_prob, state_val = agent.step(state)\n",
        "        state_values.append(state_val)\n",
        "        log_probs.append(log_prob)\n",
        "        _, reward, done, info = env.step(action.item())\n",
        "        curr_reward += reward\n",
        "        rewards.append(reward)\n",
        "        next_screen = get_screen(env)\n",
        "\n",
        "        if done:\n",
        "            next_state = None\n",
        "        else:\n",
        "            next_state = torch.cat((state[:, 1:, :, :], next_screen.unsqueeze(0)), dim = 1)\n",
        "\n",
        "        state = next_state\n",
        "        i += 1\n",
        "    \n",
        "    agent.update(state_values, log_probs, rewards)\n",
        "\n",
        "    total_rewards.append(curr_reward)\n",
        "    avg_rewards = np.mean(total_rewards[-50:])\n",
        "\n",
        "    if (episode + 1) % 10 == 0:\n",
        "        print(f'{episode + 1} episode completed. Rewards: {avg_rewards}')\n",
        "        # saving the best weight\n",
        "        if avg_rewards > best:\n",
        "            best = avg_rewards\n",
        "            agent.saveWeights('/content/drive/MyDrive/RL/3/AC_Acrobot')\n",
        "        \n",
        "        \n",
        "    episode += 1\n",
        "    torch.cuda.empty_cache()\n",
        "\n",
        "    if avg_rewards >= env.spec.reward_threshold or episode > 1200:\n",
        "        break\n",
        "\n",
        "print('Complete')"
      ],
      "execution_count": null,
      "outputs": [
        {
          "output_type": "stream",
          "text": [
            "384\n",
            "384\n",
            "50 episode completed.\n",
            "100 episode completed.\n",
            "150 episode completed.\n",
            "200 episode completed.\n",
            "250 episode completed.\n",
            "300 episode completed.\n",
            "350 episode completed.\n",
            "400 episode completed.\n",
            "450 episode completed.\n",
            "500 episode completed.\n",
            "550 episode completed.\n",
            "600 episode completed.\n",
            "650 episode completed.\n",
            "700 episode completed.\n",
            "750 episode completed.\n",
            "800 episode completed.\n",
            "850 episode completed.\n",
            "900 episode completed.\n",
            "950 episode completed.\n",
            "1000 episode completed.\n",
            "1050 episode completed.\n",
            "1100 episode completed.\n",
            "1150 episode completed.\n",
            "1200 episode completed.\n",
            "Complete\n"
          ],
          "name": "stdout"
        }
      ]
    },
    {
      "cell_type": "code",
      "metadata": {
        "id": "Bs3PMrPHeJxB",
        "colab": {
          "base_uri": "https://localhost:8080/",
          "height": 329
        },
        "outputId": "f4f80806-a8d8-4b0b-9640-4a2a81d313f5"
      },
      "source": [
        "Plotting Total rewards received vs Episodes\n",
        "step = 10\n",
        "plt.title('Rewards dynamics')\n",
        "plt.xlabel('Episodes')\n",
        "plt.ylabel('Total Reward (SMA 10)')\n",
        "plt.plot([np.mean(total_rewards[i : i + step]) for i in range(len(total_rewards))])\n",
        "plt.savefig('Rewards_dynamics.png')\n"
      ],
      "execution_count": null,
      "outputs": [
        {
          "output_type": "execute_result",
          "data": {
            "text/plain": [
              "<matplotlib.image.AxesImage at 0x7f7971bac358>"
            ]
          },
          "metadata": {
            "tags": []
          },
          "execution_count": 16
        },
        {
          "output_type": "display_data",
          "data": {
            "image/png": "[encoded data removed]",
            "text/plain": [
              "<Figure size 504x648 with 1 Axes>"
            ]
          },
          "metadata": {
            "tags": [],
            "needs_background": "light"
          }
        }
      ]
    },
    {
      "cell_type": "code",
      "metadata": {
        "id": "7gp5XdtOXkMu"
      },
      "source": [
        "agent.saveWeights('AC_Acrobot')"
      ],
      "execution_count": null,
      "outputs": []
    },
    {
      "cell_type": "code",
      "metadata": {
        "id": "IfURC20TziOb",
        "colab": {
          "base_uri": "https://localhost:8080/"
        },
        "outputId": "3bcf7108-a9a2-401a-b709-7f14fd73e899"
      },
      "source": [
        "agent = Agent(env)\n",
        "agent.loadWeights('AC_Acrobot')\n",
        "imgs = agent.test()\n",
        "len(imgs)"
      ],
      "execution_count": null,
      "outputs": [
        {
          "output_type": "stream",
          "text": [
            "384\n",
            "384\n"
          ],
          "name": "stdout"
        },
        {
          "output_type": "execute_result",
          "data": {
            "text/plain": [
              "181"
            ]
          },
          "metadata": {
            "tags": []
          },
          "execution_count": 12
        }
      ]
    },
    {
      "cell_type": "code",
      "metadata": {
        "id": "n4pF16n-6FaR"
      },
      "source": [
        ""
      ],
      "execution_count": null,
      "outputs": []
    }
  ]
}