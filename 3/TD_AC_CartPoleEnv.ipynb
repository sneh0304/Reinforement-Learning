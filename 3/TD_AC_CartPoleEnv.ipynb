{
  "nbformat": 4,
  "nbformat_minor": 0,
  "metadata": {
    "colab": {
      "name": "TD_AC_CartPoleEnv.ipynb",
      "provenance": [],
      "collapsed_sections": []
    },
    "kernelspec": {
      "name": "python3",
      "display_name": "Python 3"
    },
    "accelerator": "GPU"
  },
  "cells": [
    {
      "cell_type": "code",
      "metadata": {
        "id": "wqj_Zv9-zujq"
      },
      "source": [
        "!apt-get install -y xvfb python-opengl > /dev/null 2>&1\n",
        "!pip install gym pyvirtualdisplay > /dev/null 2>&1"
      ],
      "execution_count": null,
      "outputs": []
    },
    {
      "cell_type": "code",
      "metadata": {
        "id": "d1_UNET5AsBY"
      },
      "source": [
        "import numpy as np\n",
        "import matplotlib.pyplot as plt\n",
        "import gym\n",
        "from gym import spaces\n",
        "import torch\n",
        "import torch.nn as nn\n",
        "import torch.optim as optim\n",
        "import torch.nn.functional as F\n",
        "from PIL import Image\n",
        "import torchvision.transforms as T\n",
        "from torch.distributions import Categorical\n",
        "from IPython import display as ipythondisplay\n",
        "import imageio"
      ],
      "execution_count": null,
      "outputs": []
    },
    {
      "cell_type": "code",
      "metadata": {
        "id": "0e05U3Fn0FLy",
        "colab": {
          "base_uri": "https://localhost:8080/"
        },
        "outputId": "dae2249d-4782-41dc-cf7d-ee158f7aff16"
      },
      "source": [
        "from pyvirtualdisplay import Display\n",
        "display = Display(visible = 0, size = (400, 300))\n",
        "display.start()"
      ],
      "execution_count": null,
      "outputs": [
        {
          "output_type": "execute_result",
          "data": {
            "text/plain": [
              "<pyvirtualdisplay.display.Display at 0x7f71223aa828>"
            ]
          },
          "metadata": {
            "tags": []
          },
          "execution_count": 2
        }
      ]
    },
    {
      "cell_type": "markdown",
      "metadata": {
        "id": "8WqZpngmet3W"
      },
      "source": [
        "### Environment"
      ]
    },
    {
      "cell_type": "code",
      "metadata": {
        "id": "E4abimHLvFyF",
        "colab": {
          "base_uri": "https://localhost:8080/"
        },
        "outputId": "05aaa091-a65c-437e-add6-342965cf9bfc"
      },
      "source": [
        "env = gym.make('CartPole-v1').unwrapped\n",
        "\n",
        "print(env.action_space.n)\n",
        "print(env.observation_space)\n",
        "print(env.spec.reward_threshold)"
      ],
      "execution_count": null,
      "outputs": [
        {
          "output_type": "stream",
          "text": [
            "2\n",
            "Box(-3.4028234663852886e+38, 3.4028234663852886e+38, (4,), float32)\n",
            "475.0\n"
          ],
          "name": "stdout"
        }
      ]
    },
    {
      "cell_type": "code",
      "metadata": {
        "id": "QUMxu0Ft4sIB",
        "colab": {
          "base_uri": "https://localhost:8080/",
          "height": 286
        },
        "outputId": "d1aec9b4-4fb2-4262-aa25-d7160f99012d"
      },
      "source": [
        "env.reset()\n",
        "screen = env.render(mode = 'rgb_array')\n",
        "plt.imshow(screen)"
      ],
      "execution_count": null,
      "outputs": [
        {
          "output_type": "execute_result",
          "data": {
            "text/plain": [
              "<matplotlib.image.AxesImage at 0x7f70bf15d7b8>"
            ]
          },
          "metadata": {
            "tags": []
          },
          "execution_count": 4
        },
        {
          "output_type": "display_data",
          "data": {
            "image/png": "[encoded data removed]",
            "text/plain": [
              "<Figure size 432x288 with 1 Axes>"
            ]
          },
          "metadata": {
            "tags": [],
            "needs_background": "light"
          }
        }
      ]
    },
    {
      "cell_type": "code",
      "metadata": {
        "id": "7HfT_UBh0MeN",
        "colab": {
          "base_uri": "https://localhost:8080/",
          "height": 245
        },
        "outputId": "58ffb755-a860-43d5-fa39-8877c499dade"
      },
      "source": [
        "# ref: https://pytorch.org/tutorials/intermediate/reinforcement_q_learning.html\n",
        "\n",
        "device = torch.device(\"cuda\" if torch.cuda.is_available() else \"cpu\")\n",
        "resize = T.Compose([T.ToPILImage(), T.Grayscale(), T.Resize(40, interpolation = Image.BICUBIC), T.ToTensor()])\n",
        "\n",
        "def get_cart_location(screen_width):\n",
        "    world_width = env.x_threshold * 2\n",
        "    scale = screen_width / world_width\n",
        "    return int(env.state[0] * scale + screen_width / 2.0)  # MIDDLE OF CART\n",
        "\n",
        "def get_screen(env):\n",
        "    screen = env.render(mode = 'rgb_array').transpose((2, 0, 1))\n",
        "    _, height, width = screen.shape\n",
        "    screen = screen[:, int(height*0.4):int(height * 0.8)]\n",
        "    view_width = int(width * 0.5)\n",
        "    cart_location = get_cart_location(width)\n",
        "    if cart_location < view_width // 2:\n",
        "        slice_range = slice(view_width)\n",
        "    elif cart_location > (width - view_width // 2):\n",
        "        slice_range = slice(-view_width, None)\n",
        "    else:\n",
        "        slice_range = slice(cart_location - view_width // 2, cart_location + view_width // 2)\n",
        "        \n",
        "    screen = screen[:, :, slice_range]\n",
        "    screen = np.ascontiguousarray(screen, dtype = np.float32) / 255\n",
        "    screen = torch.from_numpy(screen)\n",
        "    \n",
        "    return resize(screen).to(device)\n",
        "\n",
        "env.reset()\n",
        "plt.figure()\n",
        "plt.imshow(get_screen(env).cpu().squeeze(0).numpy(), interpolation = 'none')\n",
        "plt.show()\n",
        "\n",
        "print(get_screen(env).size())"
      ],
      "execution_count": null,
      "outputs": [
        {
          "output_type": "display_data",
          "data": {
            "image/png": "[encoded data removed]",
            "text/plain": [
              "<Figure size 432x288 with 1 Axes>"
            ]
          },
          "metadata": {
            "tags": [],
            "needs_background": "light"
          }
        },
        {
          "output_type": "stream",
          "text": [
            "torch.Size([1, 40, 75])\n"
          ],
          "name": "stdout"
        }
      ]
    },
    {
      "cell_type": "markdown",
      "metadata": {
        "id": "XiaWKp0kez7m"
      },
      "source": [
        "### Actor and Critic Networks"
      ]
    },
    {
      "cell_type": "code",
      "metadata": {
        "id": "XoPwGCbZ9KJp"
      },
      "source": [
        "class Net(nn.Module):\n",
        "    def __init__(self, h, w, outputs):\n",
        "        super(Net, self).__init__()\n",
        "        self.conv1 = nn.Conv2d(4, 16, kernel_size = 3, stride = 1)\n",
        "        self.bn1 = nn.BatchNorm2d(16)\n",
        "        self.conv2 = nn.Conv2d(16, 32, kernel_size = 3, stride = 1)\n",
        "        self.bn2 = nn.BatchNorm2d(32)\n",
        "        self.conv3 = nn.Conv2d(32, 64, kernel_size = 5, stride = 2)\n",
        "        self.bn3 = nn.BatchNorm2d(64)\n",
        "        self.conv4 = nn.Conv2d(64, 64, kernel_size = 5, stride = 2)\n",
        "        self.bn4 = nn.BatchNorm2d(64)\n",
        "\n",
        "        conv2d_size_out = lambda size, kernel_size = 3, pad = 0, stride = 2 : (size + (2 * pad) - kernel_size) // stride  + 1\n",
        "\n",
        "        convw = conv2d_size_out(conv2d_size_out(conv2d_size_out(conv2d_size_out(w, stride = 1), stride = 1), kernel_size = 5), kernel_size = 5)\n",
        "        convh = conv2d_size_out(conv2d_size_out(conv2d_size_out(conv2d_size_out(h, stride = 1), stride = 1), kernel_size = 5), kernel_size = 5)\n",
        "        flatten_input_size = convw * convh * 64\n",
        "        print(flatten_input_size)\n",
        "        self.fc1 = nn.Linear(flatten_input_size, 128)\n",
        "        self.fc2 = nn.Linear(128, outputs)\n",
        "\n",
        "    def forward(self, x):\n",
        "        x = F.relu(self.bn1(self.conv1(x)))\n",
        "        x = F.relu(self.bn2(self.conv2(x)))\n",
        "        x = F.relu(self.bn3(self.conv3(x)))\n",
        "        x = F.relu(self.bn4(self.conv4(x)))\n",
        "        x = F.relu(self.fc1(x.view(x.size(0), -1)))\n",
        "        x = self.fc2(x)\n",
        "        return F.softmax(x, -1)\n",
        "  "
      ],
      "execution_count": null,
      "outputs": []
    },
    {
      "cell_type": "markdown",
      "metadata": {
        "id": "8ItRhGjXsmop"
      },
      "source": [
        "### **TD Actor Critic Agent**"
      ]
    },
    {
      "cell_type": "code",
      "metadata": {
        "id": "J2p0s3DiUS1V"
      },
      "source": [
        "class Agent:\n",
        "    def __init__(self, env, lr = 0.0001, gamma = 0.999):\n",
        "        self.env = env\n",
        "        self.observation_space = env.observation_space\n",
        "        self.action_space = env.action_space\n",
        "        self.gamma = gamma\n",
        "\n",
        "        _, h, w = get_screen(env).size()\n",
        "        self.actor = Net(h, w, self.action_space.n).to(device)\n",
        "        self.critic = Net(h, w, 1).to(device)\n",
        "\n",
        "        self.actor_optimizer = optim.Adam(self.actor.parameters(), lr = lr)\n",
        "        self.critic_optimizer = optim.Adam(self.critic.parameters(), lr = lr)\n",
        "\n",
        "        self.critic_criterion = nn.SmoothL1Loss()\n",
        "\n",
        "    # ref: https://pytorch.org/docs/stable/distributions.html\n",
        "    def step(self, state):\n",
        "        probs = self.actor(state)\n",
        "        state_val = self.critic(state)\n",
        "        m = Categorical(probs)\n",
        "        action = m.sample()\n",
        "        log_prob = m.log_prob(action)\n",
        "        return action, log_prob, state_val\n",
        "\n",
        "    def calculate_returns(self, rewards):\n",
        "        returns = []\n",
        "        curr = 0\n",
        "        for r in reversed(rewards):\n",
        "            curr = r + self.gamma * curr\n",
        "            returns.append(curr)\n",
        "        return torch.tensor(returns[::-1])\n",
        "    \n",
        "    def update(self, values, log_probs, rewards):\n",
        "        returns = self.calculate_returns(rewards)\n",
        "        returns = (returns - returns.mean()) / returns.std()\n",
        "        actor_loss = []\n",
        "        critic_loss = []\n",
        "\n",
        "        for value, log_prob, R in zip(values, log_probs, returns):\n",
        "            advantage = R - value.item()\n",
        "            # Actor loss\n",
        "            actor_loss.append(-1 * log_prob * advantage)\n",
        "            # Crtic loss\n",
        "            critic_loss.append(self.critic_criterion(torch.tensor([R], device = device).unsqueeze(1), value).unsqueeze(0))\n",
        "\n",
        "        # Actor loss backprop\n",
        "        self.actor_optimizer.zero_grad()\n",
        "        actor_loss = torch.cat(actor_loss).mean()\n",
        "        actor_loss.backward()\n",
        "        self.actor_optimizer.step()\n",
        "\n",
        "        # Critic loss backprop\n",
        "        self.critic_optimizer.zero_grad()\n",
        "        critic_loss = torch.cat(critic_loss).mean()\n",
        "        critic_loss.backward()\n",
        "        self.critic_optimizer.step()\n",
        "\n",
        "    def test(self):\n",
        "        self.env.reset()\n",
        "        images = []\n",
        "        images.append(self.env.render(mode = 'rgb_array'))\n",
        "        last_screen = get_screen(self.env)\n",
        "        state = torch.cat([last_screen, last_screen, last_screen, last_screen]).unsqueeze(0)\n",
        "        done = False\n",
        "        while not done:\n",
        "            with torch.no_grad():\n",
        "                action = self.actor(state).max(1)[1].view(1, 1)\n",
        "            _, reward, done, info = self.env.step(action.item())\n",
        "            images.append(self.env.render(mode = 'rgb_array'))\n",
        "            next_screen = get_screen(self.env)\n",
        "            next_state = torch.cat((state[:, 1:, :, :], next_screen.unsqueeze(0)), dim = 1)\n",
        "            state = next_state\n",
        "        \n",
        "        imageio.mimsave('result_cartpole.gif', images)\n",
        "        return images\n",
        "\n",
        "    def saveWeights(self, path):\n",
        "        torch.save(self.actor.state_dict(), path + '_actor')\n",
        "        torch.save(self.critic.state_dict(), path + '_critic')\n",
        "\n",
        "    def loadWeights(self, path):\n",
        "        self.actor.load_state_dict(torch.load(path + '_actor'))\n",
        "        self.critic.load_state_dict(torch.load(path + '_critic'))\n"
      ],
      "execution_count": null,
      "outputs": []
    },
    {
      "cell_type": "markdown",
      "metadata": {
        "id": "e4KT9gAOe-wW"
      },
      "source": [
        "### MDP"
      ]
    },
    {
      "cell_type": "code",
      "metadata": {
        "id": "SDqGpXuBe5NS",
        "colab": {
          "base_uri": "https://localhost:8080/"
        },
        "outputId": "17ba2eed-50d7-4956-f69e-1970054d90fa"
      },
      "source": [
        "agent = Agent(env)\n",
        "\n",
        "total_rewards = []\n",
        "\n",
        "episode = 0\n",
        "while True:\n",
        "    env.reset()\n",
        "    done = False\n",
        "\n",
        "    state_values = []\n",
        "    log_probs = []\n",
        "    rewards = []\n",
        "\n",
        "    last_screen = get_screen(env)\n",
        "    # stacking last 4 screens together as state\n",
        "    state = torch.cat([last_screen, last_screen, last_screen, last_screen]).unsqueeze(0)\n",
        "    curr_reward = 0\n",
        "    \n",
        "    while not done:\n",
        "        action, log_prob, state_val = agent.step(state)\n",
        "        state_values.append(state_val)\n",
        "        log_probs.append(log_prob)\n",
        "        _, reward, done, info = env.step(action.item())\n",
        "        curr_reward += reward\n",
        "        rewards.append(reward)\n",
        "        next_screen = get_screen(env)\n",
        "\n",
        "        if done:\n",
        "            next_state = None\n",
        "        else:\n",
        "            next_state = torch.cat((state[:, 1:, :, :], next_screen.unsqueeze(0)), dim = 1)\n",
        "\n",
        "        state = next_state\n",
        "    \n",
        "    agent.update(state_values, log_probs, rewards)\n",
        "\n",
        "    total_rewards.append(curr_reward)\n",
        "    avg_rewards = np.mean(total_rewards[-100:])\n",
        "    if (episode + 1) % 50 == 0:\n",
        "        print(f'{episode + 1} episode completed. Rewards: {avg_rewards}')\n",
        "    episode += 1\n",
        "\n",
        "    if avg_rewards >= env.spec.reward_threshold:\n",
        "        break\n",
        "\n",
        "print('Complete')"
      ],
      "execution_count": null,
      "outputs": [
        {
          "output_type": "stream",
          "text": [
            "5760\n",
            "5760\n",
            "50 episode completed. Rewards: 50.0\n",
            "100 episode completed. Rewards: 41.0\n",
            "150 episode completed. Rewards: 69.0\n",
            "200 episode completed. Rewards: 519.0\n",
            "250 episode completed. Rewards: 198.0\n",
            "300 episode completed. Rewards: 124.0\n",
            "350 episode completed. Rewards: 113.0\n",
            "400 episode completed. Rewards: 190.0\n",
            "450 episode completed. Rewards: 257.0\n",
            "500 episode completed. Rewards: 136.0\n",
            "550 episode completed. Rewards: 107.0\n",
            "600 episode completed. Rewards: 136.0\n",
            "650 episode completed. Rewards: 157.0\n",
            "700 episode completed. Rewards: 107.0\n",
            "750 episode completed. Rewards: 98.0\n",
            "800 episode completed. Rewards: 228.0\n",
            "850 episode completed. Rewards: 18.0\n",
            "900 episode completed. Rewards: 266.0\n",
            "950 episode completed. Rewards: 212.0\n",
            "1000 episode completed. Rewards: 200.0\n",
            "1050 episode completed. Rewards: 192.0\n",
            "1100 episode completed. Rewards: 337.0\n",
            "1150 episode completed. Rewards: 195.0\n",
            "1200 episode completed. Rewards: 181.0\n",
            "1250 episode completed. Rewards: 165.0\n",
            "1300 episode completed. Rewards: 617.0\n",
            "1350 episode completed. Rewards: 388.0\n",
            "Complete\n"
          ],
          "name": "stdout"
        }
      ]
    },
    {
      "cell_type": "code",
      "metadata": {
        "id": "Bs3PMrPHeJxB",
        "colab": {
          "base_uri": "https://localhost:8080/",
          "height": 295
        },
        "outputId": "6eb29fdc-2320-4c3f-d928-58f3d85fb5a0"
      },
      "source": [
        "# Plotting Total rewards received vs Episodes\n",
        "step = 10\n",
        "plt.title('Rewards dynamics')\n",
        "plt.xlabel('Episodes')\n",
        "plt.ylabel('Total Reward (SMA 10)')\n",
        "plt.plot([np.mean(total_rewards[i : i + step]) for i in range(len(total_rewards))])\n",
        "plt.savefig('Rewards_dynamics.png')\n"
      ],
      "execution_count": null,
      "outputs": [
        {
          "output_type": "display_data",
          "data": {
            "image/png": "[encoded data removed]",
            "text/plain": [
              "<Figure size 432x288 with 1 Axes>"
            ]
          },
          "metadata": {
            "tags": [],
            "needs_background": "light"
          }
        }
      ]
    },
    {
      "cell_type": "code",
      "metadata": {
        "id": "7gp5XdtOXkMu"
      },
      "source": [
        "agent.saveWeights('AC_Cartpole')"
      ],
      "execution_count": null,
      "outputs": []
    },
    {
      "cell_type": "code",
      "metadata": {
        "id": "IfURC20TziOb",
        "colab": {
          "base_uri": "https://localhost:8080/"
        },
        "outputId": "01c67fdd-6f5b-4bd3-cd3b-0adab02c7a2a"
      },
      "source": [
        "agent = Agent(env)\n",
        "agent.loadWeights('AC_Cartpole')\n",
        "imgs = agent.test()\n",
        "len(imgs)"
      ],
      "execution_count": null,
      "outputs": [
        {
          "output_type": "stream",
          "text": [
            "5760\n",
            "5760\n"
          ],
          "name": "stdout"
        },
        {
          "output_type": "execute_result",
          "data": {
            "text/plain": [
              "817"
            ]
          },
          "metadata": {
            "tags": []
          },
          "execution_count": 26
        }
      ]
    },
    {
      "cell_type": "code",
      "metadata": {
        "id": "XwW41tEBK9IZ"
      },
      "source": [
        ""
      ],
      "execution_count": null,
      "outputs": []
    }
  ]
}