{
  "nbformat": 4,
  "nbformat_minor": 0,
  "metadata": {
    "colab": {
      "name": "TD_AC_GridWorld.ipynb",
      "provenance": [],
      "collapsed_sections": []
    },
    "kernelspec": {
      "name": "python3",
      "display_name": "Python 3"
    },
    "accelerator": "GPU"
  },
  "cells": [
    {
      "cell_type": "code",
      "metadata": {
        "id": "hugcyQHNrtbg"
      },
      "source": [
        "import numpy as np\n",
        "import matplotlib.pyplot as plt\n",
        "import gym\n",
        "from gym import spaces\n",
        "import torch\n",
        "import torch.nn as nn\n",
        "import torch.optim as optim\n",
        "import torch.nn.functional as F\n",
        "from torch.distributions import Categorical"
      ],
      "execution_count": 1,
      "outputs": []
    },
    {
      "cell_type": "markdown",
      "metadata": {
        "id": "3rklynBDfemb"
      },
      "source": [
        "### **Environment**"
      ]
    },
    {
      "cell_type": "code",
      "metadata": {
        "id": "xF07D4We3-dM"
      },
      "source": [
        "device = torch.device(\"cuda\" if torch.cuda.is_available() else \"cpu\")\n",
        "\n",
        "class GridEnvironment(gym.Env):\n",
        "    metadata = { 'render.modes': [] }\n",
        "    \n",
        "    def __init__(self, n = 3, is_stochastic = False, random_start = False):\n",
        "        self.observation_space = spaces.Discrete(n ** 2)\n",
        "        self.action_space = spaces.Discrete(4)\n",
        "        self.max_timesteps = 3 * n + 1\n",
        "        self.is_stochastic = is_stochastic\n",
        "        self.n = n\n",
        "        self.random_start = random_start\n",
        "\n",
        "        # defining stochastic environment such that ∑P_i = 1\n",
        "        if self.is_stochastic:\n",
        "            self.transition_prob = []\n",
        "            for i in range(n):\n",
        "                x = []\n",
        "                for j in range(n):\n",
        "                    y = []\n",
        "                    for action in range(self.action_space.n):\n",
        "                        z = [.1] * self.action_space.n\n",
        "                        z[action] = .7\n",
        "                        y.append(z)\n",
        "                        x.append(y)\n",
        "                self.transition_prob.append(x)\n",
        "        \n",
        "    def reset(self):\n",
        "        self.timestep = 0\n",
        "        self.agent_pos = np.zeros(2, dtype = int)\n",
        "        if self.random_start:\n",
        "            self.agent_pos = np.random.randint(self.n, size = 2)\n",
        "        self.goal_pos = [self.n - 1, self.n - 1]\n",
        "        self.monster_pos = [self.n // 2, self.n // 2]\n",
        "        self.update_state()\n",
        "        self.prev_distance = self.get_distance(self.agent_pos, self.goal_pos)\n",
        "        observation = self.agent_pos\n",
        "        return self.createState(observation)\n",
        "    \n",
        "    # creating state for neural network as per one hot encoding\n",
        "    def createState(self, obs):\n",
        "        one_hot = torch.zeros((1, self.observation_space.n), device = device)\n",
        "        one_hot[0, (self.n * obs[0]) + obs[1]] = 1\n",
        "        return one_hot\n",
        "\n",
        "    def update_state(self):\n",
        "      self.state = np.zeros((self.n, self.n))\n",
        "      self.state[tuple(self.goal_pos)] = 0.5\n",
        "      self.state[tuple(self.monster_pos)] = 0.25\n",
        "      self.state[tuple(self.agent_pos)] = 1\n",
        "\n",
        "    def get_action(self, x, y, action):\n",
        "        return np.random.choice(self.action_space.n, p = self.transition_prob[x][y][action])\n",
        "\n",
        "    def get_distance(self, pos1, pos2):\n",
        "        return abs(pos1[0] - pos2[0]) + abs(pos1[1] - pos2[1])\n",
        "\n",
        "    def step(self, action):\n",
        "        if self.is_stochastic:\n",
        "            action = self.get_action(self.agent_pos[0], self.agent_pos[1], action)\n",
        "\n",
        "        # top-left: (0, 0)\n",
        "        if action == 0: #down\n",
        "            self.agent_pos[0] += 1\n",
        "        if action == 1: #up\n",
        "            self.agent_pos[0] -= 1\n",
        "        if action == 2: #right\n",
        "            self.agent_pos[1] += 1\n",
        "        if action == 3: #left\n",
        "            self.agent_pos[1] -= 1\n",
        "          \n",
        "        self.agent_pos = np.clip(self.agent_pos, 0, self.n - 1)\n",
        "        self.update_state()\n",
        "        observation = self.agent_pos\n",
        "        \n",
        "        reward = 0\n",
        "        current_distance = self.get_distance(self.agent_pos, self.goal_pos)\n",
        "        if current_distance < self.prev_distance:\n",
        "            reward = 1\n",
        "        else:\n",
        "            reward = -1\n",
        "        self.prev_distance = current_distance\n",
        "\n",
        "        goal_reached = (self.agent_pos == self.goal_pos).all()\n",
        "        if goal_reached:\n",
        "            reward = 10\n",
        "\n",
        "        found_monster = (self.agent_pos == self.monster_pos).all()\n",
        "        if found_monster:\n",
        "            reward = -10\n",
        "        \n",
        "        self.timestep += 1\n",
        "        done = True if (self.timestep >= self.max_timesteps) or goal_reached or found_monster else False\n",
        "        info = {}\n",
        "        \n",
        "        return self.createState(observation), reward, done, info\n",
        "        \n",
        "    def render(self):\n",
        "        plt.imshow(self.state)\n",
        "        plt.show()"
      ],
      "execution_count": 2,
      "outputs": []
    },
    {
      "cell_type": "markdown",
      "metadata": {
        "id": "SY0Xw_lmflkX"
      },
      "source": [
        "### **Actor and Crtic Networks**"
      ]
    },
    {
      "cell_type": "code",
      "metadata": {
        "id": "f2kAhFVa4C7w"
      },
      "source": [
        "class Actor(nn.Module):\n",
        "    def __init__(self, inputs, outputs):\n",
        "        super(Actor, self).__init__()\n",
        "        self.fc1 = nn.Linear(inputs, 128)\n",
        "        self.fc2 = nn.Linear(128, outputs)\n",
        "\n",
        "    def forward(self, x):\n",
        "        x = F.relu(self.fc1(x))\n",
        "        x = F.softmax(self.fc2(x), -1)\n",
        "        return x\n",
        "\n",
        "class Critic(nn.Module):\n",
        "    def __init__(self, inputs, outputs):\n",
        "        super(Critic, self).__init__()\n",
        "        self.fc1 = nn.Linear(inputs, 128)\n",
        "        self.fc2 = nn.Linear(128, outputs)\n",
        "\n",
        "    def forward(self, x):\n",
        "        x = F.relu(self.fc1(x))\n",
        "        x = self.fc2(x)\n",
        "        return x\n",
        "  "
      ],
      "execution_count": 3,
      "outputs": []
    },
    {
      "cell_type": "markdown",
      "metadata": {
        "id": "qNPGqepWfyih"
      },
      "source": [
        "### **TD Actor Critic Agent**"
      ]
    },
    {
      "cell_type": "code",
      "metadata": {
        "id": "oksp9Mod-ou5"
      },
      "source": [
        "class Agent:\n",
        "    def __init__(self, env, lr = 0.01, gamma = 0.999):\n",
        "        self.env = env\n",
        "        self.observation_space = env.observation_space\n",
        "        self.action_space = env.action_space\n",
        "        self.gamma = gamma\n",
        "\n",
        "        self.actor = Actor(self.observation_space.n, self.action_space.n).to(device)\n",
        "        self.critic = Critic(self.observation_space.n, 1).to(device)\n",
        "\n",
        "        self.actor_optimizer = optim.Adam(self.actor.parameters(), lr = lr)\n",
        "        self.critic_optimizer = optim.Adam(self.critic.parameters(), lr = lr)\n",
        "\n",
        "        self.critic_criterion = nn.MSELoss()\n",
        "\n",
        "    # ref: https://pytorch.org/docs/stable/distributions.html\n",
        "    def step(self, state):\n",
        "        probs = self.actor(state)\n",
        "        state_val = self.critic(state)\n",
        "        m = Categorical(probs)\n",
        "        action = m.sample()\n",
        "        log_prob = m.log_prob(action)\n",
        "        return action, log_prob, state_val\n",
        "\n",
        "    def calculate_returns(self, rewards):\n",
        "        returns = []\n",
        "        curr = 0\n",
        "        for r in reversed(rewards):\n",
        "            curr = r + self.gamma * curr\n",
        "            returns.append(curr)\n",
        "        return torch.tensor(returns[::-1])\n",
        "        \n",
        "    def update(self, values, log_probs, rewards):\n",
        "        returns = self.calculate_returns(rewards)\n",
        "        actor_loss = []\n",
        "        critic_loss = []\n",
        "\n",
        "        for value, log_prob, R in zip(values, log_probs, returns):\n",
        "            advantage = R - value.item()\n",
        "            # Actor loss\n",
        "            actor_loss.append(-1 * log_prob * advantage)\n",
        "            # Crtic loss\n",
        "            critic_loss.append(self.critic_criterion(torch.tensor([R], device = device).unsqueeze(1), value).unsqueeze(0))\n",
        "\n",
        "        # Actor loss backprop\n",
        "        self.actor_optimizer.zero_grad()\n",
        "        actor_loss = torch.cat(actor_loss).mean()\n",
        "        actor_loss.backward()\n",
        "        self.actor_optimizer.step()\n",
        "\n",
        "        # Critic loss backprop\n",
        "        self.critic_optimizer.zero_grad()\n",
        "        critic_loss = torch.cat(critic_loss).mean()\n",
        "        critic_loss.backward()\n",
        "        self.critic_optimizer.step()\n",
        "\n",
        "    def test(self):\n",
        "        state = self.env.reset()\n",
        "        done = False\n",
        "        self.env.render()\n",
        "        while not done:\n",
        "            with torch.no_grad():\n",
        "                action = self.actor(state).max(1)[1].view(1, 1)\n",
        "            obs, reward, done, info = self.env.step(action)\n",
        "            state = obs\n",
        "            self.env.render()\n",
        "    \n",
        "    def saveWeights(self, path):\n",
        "        torch.save(self.actor.state_dict(), path + '_actor')\n",
        "        torch.save(self.critic.state_dict(), path + '_critic')\n",
        "\n",
        "    def loadWeights(self, path):\n",
        "        self.actor.load_state_dict(torch.load(path + '_actor'))\n",
        "        self.critic.load_state_dict(torch.load(path + '_critic'))\n"
      ],
      "execution_count": 19,
      "outputs": []
    },
    {
      "cell_type": "markdown",
      "metadata": {
        "id": "qztf2J50f6ou"
      },
      "source": [
        "### **MDP**"
      ]
    },
    {
      "cell_type": "code",
      "metadata": {
        "colab": {
          "base_uri": "https://localhost:8080/",
          "height": 1000
        },
        "id": "P7vSTpgEA8m5",
        "outputId": "0bc60910-3f67-4f7b-b85c-128c8a5de773"
      },
      "source": [
        "env = GridEnvironment(5)\n",
        "agent = Agent(env)\n",
        "\n",
        "steps = 0\n",
        "total_rewards = []\n",
        "episodes = 500\n",
        "\n",
        "for episode in range(episodes):\n",
        "    state = env.reset()\n",
        "    done = False\n",
        "    \n",
        "    state_values = []\n",
        "    log_probs = []\n",
        "    rewards = []\n",
        "\n",
        "    curr_reward = 0\n",
        "\n",
        "    while not done:\n",
        "        action, log_prob, state_val = agent.step(state)\n",
        "        state_values.append(state_val)\n",
        "        log_probs.append(log_prob)\n",
        "        next_state, reward, done, info = env.step(action.item())\n",
        "        curr_reward += reward\n",
        "        rewards.append(reward)\n",
        "\n",
        "        state = next_state\n",
        "        steps += 1\n",
        "    \n",
        "    agent.update(state_values, log_probs, rewards)\n",
        "    \n",
        "    total_rewards.append(curr_reward)\n",
        "    if (episode + 1) % 10 == 0:\n",
        "        print(f'{episode + 1} episode completed. Reward: {curr_reward}')\n",
        "\n",
        "print('Complete')\n",
        "print(f'On Average {steps / episodes} steps per episode\\n')\n",
        "env.render()"
      ],
      "execution_count": 21,
      "outputs": [
        {
          "output_type": "stream",
          "text": [
            "10 episode completed. Reward: 0\n",
            "20 episode completed. Reward: 2\n",
            "30 episode completed. Reward: -7\n",
            "40 episode completed. Reward: 2\n",
            "50 episode completed. Reward: 17\n",
            "60 episode completed. Reward: 17\n",
            "70 episode completed. Reward: 17\n",
            "80 episode completed. Reward: 17\n",
            "90 episode completed. Reward: 14\n",
            "100 episode completed. Reward: 17\n",
            "110 episode completed. Reward: 17\n",
            "120 episode completed. Reward: 17\n",
            "130 episode completed. Reward: 17\n",
            "140 episode completed. Reward: 17\n",
            "150 episode completed. Reward: 17\n",
            "160 episode completed. Reward: 17\n",
            "170 episode completed. Reward: 17\n",
            "180 episode completed. Reward: 17\n",
            "190 episode completed. Reward: 17\n",
            "200 episode completed. Reward: 17\n",
            "210 episode completed. Reward: 17\n",
            "220 episode completed. Reward: 17\n",
            "230 episode completed. Reward: 17\n",
            "240 episode completed. Reward: 17\n",
            "250 episode completed. Reward: 16\n",
            "260 episode completed. Reward: 17\n",
            "270 episode completed. Reward: 17\n",
            "280 episode completed. Reward: 17\n",
            "290 episode completed. Reward: 17\n",
            "300 episode completed. Reward: 17\n",
            "310 episode completed. Reward: 17\n",
            "320 episode completed. Reward: 17\n",
            "330 episode completed. Reward: 17\n",
            "340 episode completed. Reward: 17\n",
            "350 episode completed. Reward: 17\n",
            "360 episode completed. Reward: 17\n",
            "370 episode completed. Reward: 17\n",
            "380 episode completed. Reward: 17\n",
            "390 episode completed. Reward: 17\n",
            "400 episode completed. Reward: 17\n",
            "410 episode completed. Reward: 17\n",
            "420 episode completed. Reward: 17\n",
            "430 episode completed. Reward: 17\n",
            "440 episode completed. Reward: 17\n",
            "450 episode completed. Reward: 17\n",
            "460 episode completed. Reward: 17\n",
            "470 episode completed. Reward: 17\n",
            "480 episode completed. Reward: 17\n",
            "490 episode completed. Reward: 17\n",
            "500 episode completed. Reward: 17\n",
            "Complete\n",
            "On Average 8.784 steps per episode\n",
            "\n"
          ],
          "name": "stdout"
        },
        {
          "output_type": "display_data",
          "data": {
            "image/png": "[encoded data removed]",
            "text/plain": [
              "<Figure size 432x288 with 1 Axes>"
            ]
          },
          "metadata": {
            "tags": [],
            "needs_background": "light"
          }
        }
      ]
    },
    {
      "cell_type": "code",
      "metadata": {
        "colab": {
          "base_uri": "https://localhost:8080/",
          "height": 295
        },
        "id": "zBY96MGiPLWo",
        "outputId": "77804492-a08e-4f5e-becf-7ad8c1f6b66e"
      },
      "source": [
        "step = 10\n",
        "plt.title('Rewards dynamics')\n",
        "plt.xlabel('Episodes')\n",
        "plt.ylabel('Total Reward (SMA 10)')\n",
        "plt.plot([np.mean(total_rewards[i : i + step]) for i in range(len(total_rewards))])\n",
        "plt.savefig('Rewards_dynamics.png')"
      ],
      "execution_count": 22,
      "outputs": [
        {
          "output_type": "display_data",
          "data": {
            "image/png": "[encoded data removed]",
            "text/plain": [
              "<Figure size 432x288 with 1 Axes>"
            ]
          },
          "metadata": {
            "tags": [],
            "needs_background": "light"
          }
        }
      ]
    },
    {
      "cell_type": "code",
      "metadata": {
        "colab": {
          "base_uri": "https://localhost:8080/",
          "height": 1000
        },
        "id": "gLN4HcZ4P-sQ",
        "outputId": "a9c28add-7d92-4be2-f1e2-5402f3f3e779"
      },
      "source": [
        "agent.test()"
      ],
      "execution_count": 122,
      "outputs": [
        {
          "output_type": "display_data",
          "data": {
            "image/png": "[encoded data removed]",
            "text/plain": [
              "<Figure size 432x288 with 1 Axes>"
            ]
          },
          "metadata": {
            "tags": [],
            "needs_background": "light"
          }
        },
        {
          "output_type": "display_data",
          "data": {
            "image/png": "[encoded data removed]",
            "text/plain": [
              "<Figure size 432x288 with 1 Axes>"
            ]
          },
          "metadata": {
            "tags": [],
            "needs_background": "light"
          }
        },
        {
          "output_type": "display_data",
          "data": {
            "image/png": "[encoded data removed]",
            "text/plain": [
              "<Figure size 432x288 with 1 Axes>"
            ]
          },
          "metadata": {
            "tags": [],
            "needs_background": "light"
          }
        },
        {
          "output_type": "display_data",
          "data": {
            "image/png": "[encoded data removed]",
            "text/plain": [
              "<Figure size 432x288 with 1 Axes>"
            ]
          },
          "metadata": {
            "tags": [],
            "needs_background": "light"
          }
        },
        {
          "output_type": "display_data",
          "data": {
            "image/png": "[encoded data removed]",
            "text/plain": [
              "<Figure size 432x288 with 1 Axes>"
            ]
          },
          "metadata": {
            "tags": [],
            "needs_background": "light"
          }
        },
        {
          "output_type": "display_data",
          "data": {
            "image/png": "[encoded data removed]",
            "text/plain": [
              "<Figure size 432x288 with 1 Axes>"
            ]
          },
          "metadata": {
            "tags": [],
            "needs_background": "light"
          }
        },
        {
          "output_type": "display_data",
          "data": {
            "image/png": "[encoded data removed]",
            "text/plain": [
              "<Figure size 432x288 with 1 Axes>"
            ]
          },
          "metadata": {
            "tags": [],
            "needs_background": "light"
          }
        },
        {
          "output_type": "display_data",
          "data": {
            "image/png": "[encoded data removed]",
            "text/plain": [
              "<Figure size 432x288 with 1 Axes>"
            ]
          },
          "metadata": {
            "tags": [],
            "needs_background": "light"
          }
        },
        {
          "output_type": "display_data",
          "data": {
            "image/png": "[encoded data removed]",
            "text/plain": [
              "<Figure size 432x288 with 1 Axes>"
            ]
          },
          "metadata": {
            "tags": [],
            "needs_background": "light"
          }
        }
      ]
    },
    {
      "cell_type": "code",
      "metadata": {
        "id": "mR1UghFqcdZg"
      },
      "source": [
        ""
      ],
      "execution_count": null,
      "outputs": []
    }
  ]
}